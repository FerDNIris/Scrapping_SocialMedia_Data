{
 "cells": [
  {
   "cell_type": "code",
   "execution_count": 10,
   "id": "64c41b08",
   "metadata": {},
   "outputs": [],
   "source": [
    "import pandas as pd\n",
    "import numpy as np\n",
    "import os\n",
    "import sys\n",
    "import argparse\n",
    "import matplotlib.pyplot as plt\n",
    "import seaborn as sns\n",
    "import matplotlib.ticker as ticker\n",
    "import matplotlib.dates as mdates\n",
    "import matplotlib.patches as mpatches\n",
    "import spacy\n",
    "import spacy.cli\n",
    "import re \n"
   ]
  },
  {
   "cell_type": "code",
   "execution_count": 4,
   "id": "49683739",
   "metadata": {},
   "outputs": [],
   "source": [
    "modelSpacy = spacy.load(\"es_core_news_lg\")"
   ]
  },
  {
   "cell_type": "code",
   "execution_count": 5,
   "id": "c4d9b8be",
   "metadata": {},
   "outputs": [],
   "source": [
    "df = pd.read_csv(\"tweets.csv\", sep=\",\", encoding=\"utf-8\")"
   ]
  },
  {
   "cell_type": "code",
   "execution_count": 6,
   "id": "c97ca6ef",
   "metadata": {},
   "outputs": [
    {
     "data": {
      "application/vnd.microsoft.datawrangler.viewer.v0+json": {
       "columns": [
        {
         "name": "index",
         "rawType": "int64",
         "type": "integer"
        },
        {
         "name": "Texto del Tweet",
         "rawType": "object",
         "type": "string"
        }
       ],
       "conversionMethod": "pd.DataFrame",
       "ref": "9fa36c71-1656-434b-b78b-d0cdae2b041c",
       "rows": [
        [
         "0",
         "Si ya sabe, para que pregunta tío Richie!"
        ],
        [
         "1",
         "Au"
        ],
        [
         "2",
         "El Oro seguirá siendo el metal más valioso, hasta en tanto no caiga un meteoro y traiga otro metal más valioso. El bitcóin es una incertidumbre aún."
        ],
        [
         "3",
         "Puro team oregano"
        ],
        [
         "4",
         "A largo plazo el oro; tengo entendido que los metales no bajan de precio, excepto cuando lo compras, si se lo quieres vender incluso a quien te lo vendió te lo paga a menos El BITCOIN aun no lo conozco, pero con eso que sube y baja la incertidumbre de cuanto obtienes"
        ]
       ],
       "shape": {
        "columns": 1,
        "rows": 5
       }
      },
      "text/html": [
       "<div>\n",
       "<style scoped>\n",
       "    .dataframe tbody tr th:only-of-type {\n",
       "        vertical-align: middle;\n",
       "    }\n",
       "\n",
       "    .dataframe tbody tr th {\n",
       "        vertical-align: top;\n",
       "    }\n",
       "\n",
       "    .dataframe thead th {\n",
       "        text-align: right;\n",
       "    }\n",
       "</style>\n",
       "<table border=\"1\" class=\"dataframe\">\n",
       "  <thead>\n",
       "    <tr style=\"text-align: right;\">\n",
       "      <th></th>\n",
       "      <th>Texto del Tweet</th>\n",
       "    </tr>\n",
       "  </thead>\n",
       "  <tbody>\n",
       "    <tr>\n",
       "      <th>0</th>\n",
       "      <td>Si ya sabe, para que pregunta tío Richie!</td>\n",
       "    </tr>\n",
       "    <tr>\n",
       "      <th>1</th>\n",
       "      <td>Au</td>\n",
       "    </tr>\n",
       "    <tr>\n",
       "      <th>2</th>\n",
       "      <td>El Oro seguirá siendo el metal más valioso, ha...</td>\n",
       "    </tr>\n",
       "    <tr>\n",
       "      <th>3</th>\n",
       "      <td>Puro team oregano</td>\n",
       "    </tr>\n",
       "    <tr>\n",
       "      <th>4</th>\n",
       "      <td>A largo plazo el oro; tengo entendido que los ...</td>\n",
       "    </tr>\n",
       "  </tbody>\n",
       "</table>\n",
       "</div>"
      ],
      "text/plain": [
       "                                     Texto del Tweet\n",
       "0          Si ya sabe, para que pregunta tío Richie!\n",
       "1                                                 Au\n",
       "2  El Oro seguirá siendo el metal más valioso, ha...\n",
       "3                                  Puro team oregano\n",
       "4  A largo plazo el oro; tengo entendido que los ..."
      ]
     },
     "execution_count": 6,
     "metadata": {},
     "output_type": "execute_result"
    }
   ],
   "source": [
    "df.head()"
   ]
  },
  {
   "cell_type": "code",
   "execution_count": 7,
   "id": "70409eea",
   "metadata": {},
   "outputs": [],
   "source": [
    "df.columns= ['text']"
   ]
  },
  {
   "cell_type": "code",
   "execution_count": 9,
   "id": "06f7faf8",
   "metadata": {},
   "outputs": [
    {
     "name": "stdout",
     "output_type": "stream",
     "text": [
      "(587, 1)\n",
      "                                                text\n",
      "0          Si ya sabe, para que pregunta tío Richie!\n",
      "1                                                 Au\n",
      "2  El Oro seguirá siendo el metal más valioso, ha...\n",
      "3                                  Puro team oregano\n",
      "4  A largo plazo el oro; tengo entendido que los ...\n"
     ]
    }
   ],
   "source": [
    "print(df.shape)\n",
    "print(df.head())"
   ]
  },
  {
   "cell_type": "code",
   "execution_count": null,
   "id": "479aa8b0",
   "metadata": {},
   "outputs": [],
   "source": [
    "def detectSpecialWords(text):\n",
    "    \"\"\"\n",
    "    Detects special words in the text.\n",
    "    \"\"\"\n",
    "    text = str(text.lower())\n",
    "\n",
    "    special_words = ['#', '@', 'http', 'https']\n",
    "    for word in special_words:\n",
    "        if word in text:\n",
    "            return True\n",
    "    return False"
   ]
  }
 ],
 "metadata": {
  "kernelspec": {
   "display_name": "base",
   "language": "python",
   "name": "python3"
  },
  "language_info": {
   "codemirror_mode": {
    "name": "ipython",
    "version": 3
   },
   "file_extension": ".py",
   "mimetype": "text/x-python",
   "name": "python",
   "nbconvert_exporter": "python",
   "pygments_lexer": "ipython3",
   "version": "3.12.3"
  }
 },
 "nbformat": 4,
 "nbformat_minor": 5
}
