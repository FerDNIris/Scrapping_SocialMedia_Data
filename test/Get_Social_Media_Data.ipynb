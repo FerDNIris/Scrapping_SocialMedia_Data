{
 "cells": [
  {
   "cell_type": "markdown",
   "metadata": {},
   "source": [
    "## Introducción\n",
    "Esta notebook es solo para fines de testeo, \n",
    "los scripts en este mismo repositorio son los que serán usados en producción"
   ]
  },
  {
   "cell_type": "code",
   "execution_count": null,
   "metadata": {},
   "outputs": [],
   "source": [
    "import pandas\n",
    "import tweepy\n",
    "import os\n",
    "from dotenv import load_dotenv\n",
    "from googleapiclient.discovery import build\n",
    "\n"
   ]
  },
  {
   "cell_type": "code",
   "execution_count": null,
   "metadata": {},
   "outputs": [],
   "source": []
  },
  {
   "cell_type": "code",
   "execution_count": null,
   "metadata": {},
   "outputs": [
    {
     "data": {
      "text/plain": [
       "True"
      ]
     },
     "execution_count": 35,
     "metadata": {},
     "output_type": "execute_result"
    }
   ],
   "source": [
    "load_dotenv()"
   ]
  },
  {
   "cell_type": "code",
   "execution_count": null,
   "metadata": {},
   "outputs": [],
   "source": [
    "google_api_key = os.getenv('google_api_key')\n",
    "twitter_api_key = os.getenv('twitter_api_key')\n",
    "twitter_api_secret = os.getenv('twitter_api_secret')\n",
    "twitter_access_token = os.getenv('twitter_access_token')\n",
    "twitter_access_token_secret = os.getenv('twitter_access_token_secret')\n",
    "twitter_bearer_token = os.getenv('twitter_bearer_token')\n"
   ]
  },
  {
   "cell_type": "code",
   "execution_count": null,
   "metadata": {},
   "outputs": [],
   "source": [
    "authTwitter = tweepy.OAuth1UserHandler(\n",
    "    twitter_api_key, twitter_api_secret,\n",
    "    twitter_access_token, twitter_access_token_secret\n",
    ")\n",
    "\n",
    "apiTwitter = tweepy.API(authTwitter)\n"
   ]
  },
  {
   "cell_type": "code",
   "execution_count": null,
   "metadata": {},
   "outputs": [],
   "source": [
    "clientTwitter = tweepy.Client(bearer_token=twitter_bearer_token)\n"
   ]
  },
  {
   "cell_type": "code",
   "execution_count": null,
   "metadata": {},
   "outputs": [],
   "source": [
    "apiTwitter.get_user"
   ]
  },
  {
   "cell_type": "code",
   "execution_count": null,
   "metadata": {},
   "outputs": [],
   "source": [
    "def credentialsVerified(api):\n",
    "    try:\n",
    "        user= api.verify_credentials()\n",
    "        return 'User authenticated: ' + user.screen_name\n",
    "    except tweepy.TwitterServerError as e:\n",
    "        return \"Error: \" +  e"
   ]
  },
  {
   "cell_type": "code",
   "execution_count": null,
   "metadata": {},
   "outputs": [
    {
     "data": {
      "text/plain": [
       "'User authenticated :FerTimJim'"
      ]
     },
     "execution_count": 40,
     "metadata": {},
     "output_type": "execute_result"
    }
   ],
   "source": [
    "credentialsVerified(apiTwitter)"
   ]
  },
  {
   "cell_type": "code",
   "execution_count": null,
   "metadata": {},
   "outputs": [],
   "source": [
    "def extract_tweets(userid):\n",
    "    all_tweets = []\n",
    "    tweets = tweepy.Cursor(api.user_timeline,screen_name = userid, \n",
    "                            count = 200, \n",
    "                            tweet_mode = 'extended').items()"
   ]
  },
  {
   "cell_type": "code",
   "execution_count": null,
   "metadata": {},
   "outputs": [],
   "source": [
    "tweet_id = '1900807572610818356'\n"
   ]
  },
  {
   "cell_type": "code",
   "execution_count": null,
   "metadata": {},
   "outputs": [],
   "source": [
    "response = clientTwitter.get_tweets(tweet_id, tweet_fields=[\"created_at\"])"
   ]
  },
  {
   "cell_type": "code",
   "execution_count": null,
   "metadata": {},
   "outputs": [
    {
     "data": {
      "text/plain": [
       "Response(data=[<Tweet id=1900807572610818356 text='Si @PrestaPrenda llega a 500,000 seguidores \\nSi @ItalikaOficial llega a 500,000 seguidores\\nSi @ElektraMx llega a 500,000 seguidores\\nSi mi cuenta @ricardobsalinas Llega a 3,000,000 de seguidores.\\n\\n¡¡¡ANTES DEL 15 DE ABRIL!!!!\\n\\nMUY posiblemente les regale uno de esos lingotes de https://t.co/9d61TRsSCb'>], includes={}, errors=[], meta={})"
      ]
     },
     "execution_count": 44,
     "metadata": {},
     "output_type": "execute_result"
    }
   ],
   "source": [
    "response"
   ]
  },
  {
   "cell_type": "code",
   "execution_count": null,
   "metadata": {},
   "outputs": [],
   "source": [
    "def getCommentsFromTweet(tweet_id, bearer_token):\n",
    "    #### Authentication with Twitter\n",
    "    clientTwitter = tweepy.Client(bearer_token=bearer_token)\n",
    "    list_of_tweets = clientTwitter.get_tweets(\n",
    "        \n",
    "    )\n",
    "\n"
   ]
  }
 ],
 "metadata": {
  "kernelspec": {
   "display_name": "base",
   "language": "python",
   "name": "python3"
  },
  "language_info": {
   "codemirror_mode": {
    "name": "ipython",
    "version": 3
   },
   "file_extension": ".py",
   "mimetype": "text/x-python",
   "name": "python",
   "nbconvert_exporter": "python",
   "pygments_lexer": "ipython3",
   "version": "3.12.3"
  }
 },
 "nbformat": 4,
 "nbformat_minor": 2
}
