{
 "cells": [
  {
   "cell_type": "code",
   "execution_count": 66,
   "metadata": {},
   "outputs": [],
   "source": [
    "import os\n",
    "import json\n",
    "import sys \n",
    "from sys import exit \n",
    "import numpy as np"
   ]
  },
  {
   "cell_type": "code",
   "execution_count": 67,
   "metadata": {},
   "outputs": [],
   "source": [
    "import time\n",
    "import urllib.request\n",
    "import ssl\n",
    "from dotenv import load_dotenv\n",
    "from unicodedata import name\n",
    "from selenium import webdriver\n",
    "from selenium.webdriver.common.keys import Keys\n",
    "from selenium.webdriver.chrome.options import Options\n",
    "from selenium.webdriver.common.by import By\n",
    "from selenium.webdriver.chrome.service import Service\n",
    "from urllib.parse import urlparse, parse_qs"
   ]
  },
  {
   "cell_type": "code",
   "execution_count": 68,
   "metadata": {},
   "outputs": [
    {
     "data": {
      "text/plain": [
       "True"
      ]
     },
     "execution_count": 68,
     "metadata": {},
     "output_type": "execute_result"
    }
   ],
   "source": [
    "load_dotenv()"
   ]
  },
  {
   "cell_type": "code",
   "execution_count": 69,
   "metadata": {},
   "outputs": [],
   "source": [
    "twitter_user = os.getenv(\"twitter_user\")\n",
    "twitter_password = os.getenv(\"twitter_password\")\n",
    "\n",
    "service = Service('E:/Users/1167486/Local/Drivers_web/chromedriver-win64/chromedriver')\n",
    "options = webdriver.ChromeOptions()\n",
    "options.binary_location = r'E:/Users/1167486/Local/Drivers_web/chrome-win64/chrome.exe'\n",
    "\n",
    "driver = webdriver.Chrome(service=service, options=options)\n"
   ]
  },
  {
   "cell_type": "code",
   "execution_count": 70,
   "metadata": {},
   "outputs": [],
   "source": [
    "driver.maximize_window()\n",
    "driver.get('https://x.com/i/flow/login')\n",
    "time.sleep(10)"
   ]
  },
  {
   "cell_type": "code",
   "execution_count": 72,
   "metadata": {},
   "outputs": [],
   "source": [
    "username = driver.find_element(\"css selector\", \"input[autocomplete='username']\")\n"
   ]
  },
  {
   "cell_type": "code",
   "execution_count": 73,
   "metadata": {},
   "outputs": [],
   "source": [
    "username.clear()\n"
   ]
  },
  {
   "cell_type": "code",
   "execution_count": 74,
   "metadata": {},
   "outputs": [],
   "source": [
    "username.send_keys(twitter_user)\n",
    "username.send_keys(Keys.ENTER)\n"
   ]
  },
  {
   "cell_type": "code",
   "execution_count": 75,
   "metadata": {},
   "outputs": [],
   "source": [
    "\n",
    "password = driver.find_element(\"css selector\", \"input[autocomplete='current-password']\")\n",
    "password.clear()\n",
    "password.send_keys(twitter_password)\n",
    "password.send_keys(Keys.ENTER)\n",
    "\n",
    "\n"
   ]
  },
  {
   "cell_type": "code",
   "execution_count": 76,
   "metadata": {},
   "outputs": [],
   "source": [
    "tweet_test = 'https://x.com/anabelhoficial/status/1906888988192887030'\n",
    "tweet_test = 'https://x.com/Juan_OrtizMX/status/1907289700101935494'\n"
   ]
  },
  {
   "cell_type": "code",
   "execution_count": 77,
   "metadata": {},
   "outputs": [],
   "source": [
    "driver.get(tweet_test)\n"
   ]
  },
  {
   "cell_type": "code",
   "execution_count": 78,
   "metadata": {},
   "outputs": [],
   "source": [
    "last_height = driver.execute_script(\"return document.body.scrollHeight\")\n",
    "while True:\n",
    "    # Scroll hasta el fin \n",
    "    driver.execute_script(\"window.scrollTo(0, document.body.scrollHeight)\")\n",
    "\n",
    "    # Espera a que la página se cargue \n",
    "    time.sleep(4)\n",
    "\n",
    "\n",
    "    # Recalcula la altura de la página\n",
    "    new_height = driver.execute_script(\"return document.body.scrollHeight\")\n",
    "\n",
    "    # Si ya no aumenta la altura, se termina el bucle\n",
    "    if new_height == last_height:\n",
    "        break\n",
    "    last_height = new_height"
   ]
  },
  {
   "cell_type": "code",
   "execution_count": 79,
   "metadata": {},
   "outputs": [
    {
     "data": {
      "text/plain": [
       "4"
      ]
     },
     "execution_count": 79,
     "metadata": {},
     "output_type": "execute_result"
    }
   ],
   "source": [
    "comments = driver.find_elements(\"css selector\", \"div[data-testid='tweetText']\")\n",
    "comments[0].text\n",
    "#driver.find_element(By.ID, 'tweetText')\n",
    "len(comments)"
   ]
  },
  {
   "cell_type": "code",
   "execution_count": 65,
   "metadata": {},
   "outputs": [
    {
     "data": {
      "text/plain": [
       "'Don Ricardo Salinas Pliego\\n@RicardoBSalinas\\n·\\n32s\\nMi estimada \\n@avieu\\n me mandó este muñequito diseñado con IA, ¿debería mandarlos hacer y venderlos? .\\n\\nLleve su #TioRichieDeLaSuerte\\n1\\n2\\n5\\n76'"
      ]
     },
     "execution_count": 65,
     "metadata": {},
     "output_type": "execute_result"
    }
   ],
   "source": [
    "tweets = driver.find_elements(\"css selector\", \"article[data-testid='tweet']\")\n",
    "tweets[0].text\n",
    "\n"
   ]
  },
  {
   "cell_type": "code",
   "execution_count": 60,
   "metadata": {},
   "outputs": [
    {
     "data": {
      "text/plain": [
       "3"
      ]
     },
     "execution_count": 60,
     "metadata": {},
     "output_type": "execute_result"
    }
   ],
   "source": [
    "len(tweets)\n"
   ]
  },
  {
   "cell_type": "code",
   "execution_count": 48,
   "metadata": {},
   "outputs": [
    {
     "data": {
      "text/plain": [
       "17"
      ]
     },
     "execution_count": 48,
     "metadata": {},
     "output_type": "execute_result"
    }
   ],
   "source": [
    "len(tweets)"
   ]
  },
  {
   "cell_type": "code",
   "execution_count": null,
   "metadata": {},
   "outputs": [],
   "source": []
  },
  {
   "cell_type": "code",
   "execution_count": 37,
   "metadata": {},
   "outputs": [],
   "source": [
    "#names = driver.find_elements('css selector', \"span[class='css-1jxf684 r-bcqeeo r-1ttztb7 r-qvutc0 r-poiln3']\")\n",
    "names = driver.find_elements(\"css selector\", \"div[data-testid='User-Name']\")\n",
    "\n",
    "#names = driver.find_elements(By.XPATH, \n",
    "#                             '//*[@id=\"id__8hzjlqcfwha\"]/div[1]/div/a/div/div[1]/span/span')"
   ]
  },
  {
   "cell_type": "code",
   "execution_count": 38,
   "metadata": {},
   "outputs": [
    {
     "name": "stdout",
     "output_type": "stream",
     "text": [
      "Anabel Hernández\n",
      "@anabelhoficial\n",
      "xrp.gerry.xah\n",
      "@gerryxrp\n",
      "·\n",
      "Mar 31\n",
      "Grok\n",
      "@grok\n",
      "·\n",
      "Mar 31\n",
      "Rossana Villares\n",
      "@RossanaVillares\n",
      "·\n",
      "22h\n",
      "Tere\n",
      "@Teehreh\n",
      "·\n",
      "16h\n",
      "Armando Galindo Reyes\n",
      "@armandgal65\n",
      "·\n",
      "2h\n",
      "Gilberto Astorga F\n",
      "@vzlaastor2025\n",
      "·\n",
      "13h\n",
      "Rena Cornejo\n",
      "@cornejo_rena\n",
      "·\n",
      "23h\n",
      "Juan Carlos Cortés\n",
      "@jccortes\n",
      "·\n",
      "Apr 1\n",
      "Kubala\n",
      "@cubalamx\n",
      "·\n",
      "12h\n",
      "Victor manuel Vazquez guerrero\n",
      "@Victorm06387347\n",
      "·\n",
      "12h\n",
      "Astrophisic\n",
      "@culiacan929\n",
      "·\n",
      "Mar 31\n",
      "Nadia\n",
      "@politicanadia\n",
      "·\n",
      "18h\n",
      "Luz Maria Saltijeral\n",
      "@Luzmasaltijeral\n",
      "·\n",
      "Apr 1\n"
     ]
    }
   ],
   "source": [
    "for x in names:\n",
    "    print(x.text)\n"
   ]
  },
  {
   "cell_type": "code",
   "execution_count": 25,
   "metadata": {},
   "outputs": [],
   "source": [
    "#comments = driver.find_elements(\"css selector\", \"div[id='tweetText']\")\n"
   ]
  },
  {
   "cell_type": "code",
   "execution_count": 26,
   "metadata": {},
   "outputs": [
    {
     "name": "stdout",
     "output_type": "stream",
     "text": [
      "Siempre estaré agradecida con cada uno de mis lectores, por aquellos que decidieron conocer la verdad de los hechos ante las situaciones que afectan al país. Gracias por apreciar mi trabajo en \"La historia secreta: AMLO y el Cártel de Sinaloa\".\n",
      "Hey \n",
      "@grok\n",
      " los libros de \n",
      "@anabelhoficial\n",
      " son ciencia ficción?\n",
      "No, los libros de Anabel Hernández no son ciencia ficción. Son obras de periodismo investigativo basadas en hechos reales, como \"La Historia Secreta: AMLO y el Cártel de Sinaloa\", que explora corrupción y narcotráfico en México con evidencia documental, no elementos\n",
      "Anabel estás correspondida !\n",
      "La periodista  Anavel si pasara a la historia  de México.\n",
      "Excelente libro\n",
      "#PobreBurra3D\n",
      "Señora,\n",
      "¿No le gustaría conocer a Jaime Maussan.\n",
      "Pienso que tendrían mucho de que platicar.\n",
      "                                    \n",
      "Parece que se acabó el contrato con la editorial... ¿Es despedía? ¿De qué verdad habla?\n",
      "\n",
      "Tu ciencia ficción esta muy fumada, chance deberíamos meternos lo que tu te metes para entender lo que escribes, me dijeron!! Según mi informante!!! Alguien que vio!!! Tus únicos argumentos\n",
      "\n",
      "¿Cuánto te pago el prófugo Francisco Cabeza de Vaca para que lanzaras tu montaje de investigación que se cayó en unos días?\n",
      "Felicidades Anabel por tu Coraje y Valentía para defender a Mexico! \n",
      "Siempre estaremos contigo, cuidate mucho\n",
      "Felicidades!!!\n",
      "\n",
      "Estoy contigo ánimo bravo por todo lo que haces excelente trabajo\n"
     ]
    }
   ],
   "source": [
    "for comment in comments:\n",
    "    print(comment.text)\n",
    "\n",
    "\n"
   ]
  },
  {
   "cell_type": "code",
   "execution_count": null,
   "metadata": {},
   "outputs": [],
   "source": [
    "#username = WebDriverWait(driver, 20).until(EC.visibility_of_element_located((By.CSS_SELECTOR, 'input[autocomplete=\"username\"]')))\n",
    "#username.send_keys(\"your_username\")\n",
    "#username.send_keys(Keys.ENTER)\n"
   ]
  },
  {
   "cell_type": "code",
   "execution_count": null,
   "metadata": {},
   "outputs": [],
   "source": [
    "'''\n",
    "import time\n",
    "from selenium import webdriver\n",
    "from selenium.webdriver import ChromeOptions, Keys\n",
    "from selenium.webdriver.common.by import By\n",
    "from selenium.webdriver.support import expected_conditions as EC\n",
    "from selenium.webdriver.support.wait import WebDriverWait\n",
    "\n",
    "\n",
    "options = ChromeOptions()\n",
    "options.add_argument(\"--start-maximized\")\n",
    "options.add_experimental_option(\"excludeSwitches\", [\"enable-automation\"])\n",
    "\n",
    "driver = webdriver.Chrome(options=options)\n",
    "url = \"https://twitter.com/i/flow/login\"\n",
    "driver.get(url)\n",
    "\n",
    "username = WebDriverWait(driver, 20).until(EC.visibility_of_element_located((By.CSS_SELECTOR, 'input[autocomplete=\"username\"]')))\n",
    "username.send_keys(\"your_username\")\n",
    "username.send_keys(Keys.ENTER)\n",
    "\n",
    "password = WebDriverWait(driver, 10).until(EC.visibility_of_element_located((By.CSS_SELECTOR, 'input[name=\"password\"]')))\n",
    "password.send_keys(\"your_password\")\n",
    "password.send_keys(Keys.ENTER)\n",
    "\n",
    "time.sleep(10)\n",
    "'''"
   ]
  },
  {
   "cell_type": "code",
   "execution_count": null,
   "metadata": {},
   "outputs": [],
   "source": [
    "x = 'https://x.com/i/flow/login'"
   ]
  },
  {
   "cell_type": "code",
   "execution_count": null,
   "metadata": {},
   "outputs": [],
   "source": []
  },
  {
   "cell_type": "code",
   "execution_count": null,
   "metadata": {},
   "outputs": [],
   "source": []
  }
 ],
 "metadata": {
  "kernelspec": {
   "display_name": "base",
   "language": "python",
   "name": "python3"
  },
  "language_info": {
   "codemirror_mode": {
    "name": "ipython",
    "version": 3
   },
   "file_extension": ".py",
   "mimetype": "text/x-python",
   "name": "python",
   "nbconvert_exporter": "python",
   "pygments_lexer": "ipython3",
   "version": "3.12.3"
  }
 },
 "nbformat": 4,
 "nbformat_minor": 2
}
