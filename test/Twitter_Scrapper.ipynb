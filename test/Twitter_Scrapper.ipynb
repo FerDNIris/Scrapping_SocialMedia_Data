{
 "cells": [
  {
   "cell_type": "code",
   "execution_count": 33,
   "metadata": {},
   "outputs": [],
   "source": [
    "import os\n",
    "import json\n",
    "import sys \n",
    "from sys import exit \n",
    "import numpy as np"
   ]
  },
  {
   "cell_type": "code",
   "execution_count": 34,
   "metadata": {},
   "outputs": [],
   "source": [
    "import time\n",
    "import urllib.request\n",
    "import ssl\n",
    "from dotenv import load_dotenv\n",
    "from unicodedata import name\n",
    "from selenium import webdriver\n",
    "from selenium.webdriver.common.keys import Keys\n",
    "from selenium.webdriver.chrome.options import Options\n",
    "from selenium.webdriver.common.by import By\n",
    "from selenium.webdriver.chrome.service import Service\n",
    "from urllib.parse import urlparse, parse_qs"
   ]
  },
  {
   "cell_type": "code",
   "execution_count": 35,
   "metadata": {},
   "outputs": [
    {
     "data": {
      "text/plain": [
       "True"
      ]
     },
     "execution_count": 35,
     "metadata": {},
     "output_type": "execute_result"
    }
   ],
   "source": [
    "load_dotenv()"
   ]
  },
  {
   "cell_type": "code",
   "execution_count": 36,
   "metadata": {},
   "outputs": [],
   "source": [
    "twitter_user = os.getenv(\"twitter_user\")\n",
    "twitter_password = os.getenv(\"twitter_password\")\n",
    "\n",
    "service = Service('E:/Users/1167486/Local/Drivers_web/chromedriver-win64/chromedriver')\n",
    "options = webdriver.ChromeOptions()\n",
    "options.binary_location = r'E:/Users/1167486/Local/Drivers_web/chrome-win64/chrome.exe'\n",
    "options.add_argument('--disable-blink-features=AutomationControlled')\n",
    "driver = webdriver.Chrome(service=service, options=options)\n"
   ]
  },
  {
   "cell_type": "code",
   "execution_count": 37,
   "metadata": {},
   "outputs": [],
   "source": [
    "driver.maximize_window()\n",
    "driver.get('https://x.com/i/flow/login')\n",
    "time.sleep(7)"
   ]
  },
  {
   "cell_type": "code",
   "execution_count": 38,
   "metadata": {},
   "outputs": [],
   "source": [
    "username = driver.find_element(\"css selector\", \"input[autocomplete='username']\")\n"
   ]
  },
  {
   "cell_type": "code",
   "execution_count": 39,
   "metadata": {},
   "outputs": [],
   "source": [
    "username.clear()\n"
   ]
  },
  {
   "cell_type": "code",
   "execution_count": 40,
   "metadata": {},
   "outputs": [],
   "source": [
    "username.send_keys(twitter_user)\n",
    "username.send_keys(Keys.ENTER)\n",
    "time.sleep(5)"
   ]
  },
  {
   "cell_type": "code",
   "execution_count": 41,
   "metadata": {},
   "outputs": [],
   "source": [
    "password = driver.find_element(\"css selector\", \"input[autocomplete='current-password']\")\n",
    "password.clear()\n",
    "password.send_keys(twitter_password)\n",
    "password.send_keys(Keys.ENTER)\n",
    "\n"
   ]
  },
  {
   "cell_type": "code",
   "execution_count": 42,
   "metadata": {},
   "outputs": [],
   "source": [
    "#tweet_test = 'https://x.com/anabelhoficial/status/1906888988192887030'\n",
    "#tweet_test = 'https://x.com/Juan_OrtizMX/status/1907289700101935494'\n",
    "tweet_test = 'https://x.com/RicardoBSalinas/status/1914398783624126967'"
   ]
  },
  {
   "cell_type": "code",
   "execution_count": null,
   "metadata": {},
   "outputs": [],
   "source": [
    "#driver.get(tweet_test)"
   ]
  },
  {
   "cell_type": "code",
   "execution_count": 43,
   "metadata": {},
   "outputs": [],
   "source": [
    "from selenium.webdriver.common.by import By\n",
    "from selenium.webdriver.support.ui import WebDriverWait\n",
    "from selenium.webdriver.support   import expected_conditions as EC\n",
    "from selenium.webdriver.common.action_chains import ActionChains\n",
    "import pandas as pd\n",
    "import re\n",
    "from bs4 import BeautifulSoup"
   ]
  },
  {
   "cell_type": "code",
   "execution_count": 44,
   "metadata": {},
   "outputs": [],
   "source": [
    "## Ejecutar esto siempre al testear\n",
    "link = tweet_test\n",
    "driver.get(link)"
   ]
  },
  {
   "cell_type": "code",
   "execution_count": null,
   "metadata": {},
   "outputs": [],
   "source": [
    "#'<button role=\"button\" class=\"css-175oi2r r-1777fci r-1pl7oy7 r-13qz1uu r-1loqt21 r-o7ynqc r-6416eg r-1ny4l3l\" type=\"button\"><div class=\"css-175oi2r r-16y2uox r-1wbh5a2 r-1777fci\"><div dir=\"ltr\" class=\"css-146c3p1 r-bcqeeo r-qvutc0 r-37j5jr r-q4m81j r-a023e6 r-rjixqe r-16dba41\" style=\"color: rgb(29, 155, 240);\"><span class=\"css-1jxf684 r-bcqeeo r-1ttztb7 r-qvutc0 r-poiln3\">Show probable spam</span></div></div></button>'\n",
    "#'#react-root > div > div > div.css-175oi2r.r-1f2l425.r-13qz1uu.r-417010.r-18u37iz > main > div > div > div > div > div > section > div > div > div:nth-child(18) > div.css-175oi2r.r-1adg3ll.r-1ny4l3l > div > button'"
   ]
  },
  {
   "cell_type": "code",
   "execution_count": 45,
   "metadata": {},
   "outputs": [],
   "source": [
    "boton_xpath = '//*[@id=\"react-root\"]/div/div/div[2]/main/div/div/div/div/div/section/div/div/div[12]/div[1]/div/button/div/div/span'\n",
    "boton_xpath2 = '/html/body/div[1]/div/div/div[2]/main/div/div/div/div/div/section/div/div/div[22]/div[1]/div/button/div'\n",
    "#'//*[@id=\"react-root\"]/div/div/div[2]/main/div/div/div/div/div/section/div/div/div[20]/div[1]/div/button/div'\n",
    "#'//*[@id=\"react-root\"]/div/div/div[2]/main/div/div/div/div/div/section/div/div/div[20]/div[1]/div/button/div/div'\n",
    "'/html/body/div[1]/div/div/div[2]/main/div/div/div/div/div/section/div/div/div[20]/div[1]/div/button/div/div/span'\n",
    "boton_cssselector = '#react-root > div > div > div.css-175oi2r.r-1f2l425.r-13qz1uu.r-417010.r-18u37iz > main > div > div > div > div > div > section > div > div > div:nth-child(20) > div.css-175oi2r.r-1adg3ll.r-1ny4l3l > div > button > div > div > span'\n",
    "boton_cssselector = '#react-root > div > div > div.css-175oi2r.r-1f2l425.r-13qz1uu.r-417010.r-18u37iz > main > div > div > div > div > div > section > div > div > div:nth-child(20) > div.css-175oi2r.r-1adg3ll.r-1ny4l3l > div > button > div'\n"
   ]
  },
  {
   "cell_type": "code",
   "execution_count": null,
   "metadata": {},
   "outputs": [],
   "source": [
    "#By.CSS_SELECTOR"
   ]
  },
  {
   "cell_type": "code",
   "execution_count": 14,
   "metadata": {},
   "outputs": [
    {
     "data": {
      "text/plain": [
       "'\\nfor i in range(12):\\n    print(f\\'Intento número: {i + 1}\\')\\n    try:\\n        #boton_mostrar_mas = WebDriverWait(driver, 10).until(EC.element_to_be_clickable((By.XPATH, boton_xpath)))\\n        #boton_mostrar_mas = WebDriverWait(driver, 10).until(EC.element_to_be_clickable((By.XPATH, boton_xpath2)))    \\n        boton_mostrar_mas = WebDriverWait(driver, 10).until(EC.element_to_be_clickable((By.CSS_SELECTOR, boton_cssselector)))    \\n        ### Una vez que se encuentra el botón, se hace clic en él\\n        boton_mostrar_mas.click()\\n        print(\\'Encontró el botón \"Probable Spam\"\\')\\n        time.sleep(3)  # Espera a que se carguen más tweets después de hacer clic\\n    except:\\n        print(\\'Scroll Normal\\')\\n        driver.execute_script(\"window.scrollTo(0, document.body.scrollHeight)\")\\n        time.sleep(3)\\n'"
      ]
     },
     "execution_count": 14,
     "metadata": {},
     "output_type": "execute_result"
    }
   ],
   "source": [
    "'''\n",
    "for i in range(12):\n",
    "    print(f'Intento número: {i + 1}')\n",
    "    try:\n",
    "        #boton_mostrar_mas = WebDriverWait(driver, 10).until(EC.element_to_be_clickable((By.XPATH, boton_xpath)))\n",
    "        #boton_mostrar_mas = WebDriverWait(driver, 10).until(EC.element_to_be_clickable((By.XPATH, boton_xpath2)))    \n",
    "        boton_mostrar_mas = WebDriverWait(driver, 10).until(EC.element_to_be_clickable((By.CSS_SELECTOR, boton_cssselector)))    \n",
    "        ### Una vez que se encuentra el botón, se hace clic en él\n",
    "        boton_mostrar_mas.click()\n",
    "        print('Encontró el botón \"Probable Spam\"')\n",
    "        time.sleep(3)  # Espera a que se carguen más tweets después de hacer clic\n",
    "    except:\n",
    "        print('Scroll Normal')\n",
    "        driver.execute_script(\"window.scrollTo(0, document.body.scrollHeight)\")\n",
    "        time.sleep(3)\n",
    "'''"
   ]
  },
  {
   "cell_type": "code",
   "execution_count": null,
   "metadata": {},
   "outputs": [],
   "source": [
    "##//*[@id=\"react-root\"]/div/div/div[2]/main/div/div/div/div/div/section/div/div/div[12]/div[1]/div/button/div/div/span"
   ]
  },
  {
   "cell_type": "code",
   "execution_count": 46,
   "metadata": {},
   "outputs": [
    {
     "name": "stdout",
     "output_type": "stream",
     "text": [
      "Intento de carga número: 1\n",
      "Haciendo scroll normal.\n",
      "Se encontraron 13 nuevos tweets.\n",
      "Intento de carga número: 2\n",
      "Haciendo scroll normal.\n",
      "Se encontraron 5 nuevos tweets.\n",
      "Intento de carga número: 3\n",
      "Haciendo scroll normal.\n",
      "Se encontraron 1 nuevos tweets.\n",
      "Intento de carga número: 4\n",
      "Haciendo scroll normal.\n",
      "Se encontraron 1 nuevos tweets.\n",
      "Intento de carga número: 5\n",
      "Haciendo scroll normal.\n",
      "No se encontraron nuevos tweets en este intento (1/20).\n",
      "Intento de carga número: 6\n",
      "Haciendo scroll normal.\n",
      "Se encontraron 5 nuevos tweets.\n",
      "Intento de carga número: 7\n",
      "Haciendo scroll normal.\n",
      "No se encontraron nuevos tweets en este intento (1/20).\n",
      "Intento de carga número: 8\n",
      "Haciendo scroll normal.\n",
      "No se encontraron nuevos tweets en este intento (2/20).\n",
      "Intento de carga número: 9\n",
      "Haciendo scroll normal.\n",
      "No se encontraron nuevos tweets en este intento (3/20).\n",
      "Intento de carga número: 10\n",
      "Haciendo scroll normal.\n",
      "No se encontraron nuevos tweets en este intento (4/20).\n",
      "Intento de carga número: 11\n",
      "Haciendo scroll normal.\n",
      "No se encontraron nuevos tweets en este intento (5/20).\n",
      "Intento de carga número: 12\n",
      "Haciendo scroll normal.\n",
      "No se encontraron nuevos tweets en este intento (6/20).\n",
      "Intento de carga número: 13\n",
      "Haciendo scroll normal.\n",
      "No se encontraron nuevos tweets en este intento (7/20).\n",
      "Intento de carga número: 14\n",
      "Haciendo scroll normal.\n",
      "No se encontraron nuevos tweets en este intento (8/20).\n",
      "Intento de carga número: 15\n",
      "Haciendo scroll normal.\n",
      "No se encontraron nuevos tweets en este intento (9/20).\n",
      "Intento de carga número: 16\n",
      "Haciendo scroll normal.\n",
      "No se encontraron nuevos tweets en este intento (10/20).\n",
      "Intento de carga número: 17\n",
      "Haciendo scroll normal.\n",
      "No se encontraron nuevos tweets en este intento (11/20).\n",
      "Intento de carga número: 18\n",
      "Haciendo scroll normal.\n",
      "No se encontraron nuevos tweets en este intento (12/20).\n",
      "Intento de carga número: 19\n",
      "Haciendo scroll normal.\n",
      "No se encontraron nuevos tweets en este intento (13/20).\n",
      "Intento de carga número: 20\n",
      "Haciendo scroll normal.\n",
      "No se encontraron nuevos tweets en este intento (14/20).\n",
      "\n",
      "Se descargaron 25 tweets.\n"
     ]
    }
   ],
   "source": [
    "boton_xpath = '//*[@id=\"react-root\"]/div/div/div[2]/main/div/div/div/div/div/section/div/div/div[12]/div[1]/div/button/div/div/span'\n",
    "boton_cssselector = '#react-root > div > div > div.css-175oi2r.r-1f2l425.r-13qz1uu.r-417010.r-18u37iz > main > div > div > div > div > div > section > div > div > div:nth-child(20) > div.css-175oi2r.r-1adg3ll.r-1ny4l3l > div > button > div'\n",
    "#'#react-root > div > div > div.css-175oi2r.r-1f2l425.r-13qz1uu.r-417010.r-18u37iz > main > div > div > div > div > div > section > div > div > div:nth-child(18) > div.css-175oi2r.r-1adg3ll.r-1ny4l3l > div > button > div > div > span'\n",
    "### Tweets Counter \n",
    "\n",
    "try:\n",
    "    link = tweet_test\n",
    "    driver.get(link)\n",
    "    all_tweets_data = []  # Lista para almacenar los datos de cada tweet\n",
    "    max_scroll_attempts = 20  # Número máximo de intentos de scroll/clic\n",
    "    scroll_attempt = 0\n",
    "    previous_tweet_count = 0\n",
    "    no_new_tweets_threshold = 20  # Si no se encuentran nuevos tweets después de N intentos, detener\n",
    "    no_new_tweets_counter=0\n",
    "    while scroll_attempt < max_scroll_attempts:\n",
    "        scroll_attempt += 1\n",
    "        print(f'Intento de carga número: {scroll_attempt}')\n",
    "\n",
    "        try:\n",
    "            # Intenta encontrar y hacer clic en el botón\n",
    "            boton_mostrar_mas = WebDriverWait(driver, 10).until(\n",
    "                EC.element_to_be_clickable((By.CSS_SELECTOR, boton_cssselector))\n",
    "            )\n",
    "            print('Encontró el botón \"Probable Spam\"')  \n",
    "            boton_mostrar_mas.click()\n",
    "            time.sleep(4)\n",
    "        except:\n",
    "            # Si el botón no se encuentra o no es clickable, intenta hacer scroll\n",
    "            driver.execute_script(\"window.scrollTo(0, document.body.scrollHeight)\")\n",
    "            print('Haciendo scroll normal.')  \n",
    "\n",
    "            time.sleep(4)\n",
    "\n",
    "        html_content = driver.page_source\n",
    "        soup = BeautifulSoup(html_content, 'html.parser')\n",
    "        #tweet_text_elements = soup.find_all('div', {'data-testid': 'tweetText'})\n",
    "        tweet_text_elements = soup.find_all('div', {'data-testid': 'tweetText'})\n",
    "        #tweet_text_elements = soup.find_all('div', {'data-testid': 'tweet'})\n",
    "         \n",
    "        current_tweet_count = len(tweet_text_elements)\n",
    "\n",
    "        if current_tweet_count > previous_tweet_count:\n",
    "            print(f\"Se encontraron {current_tweet_count - previous_tweet_count} nuevos tweets.\")\n",
    "            for tweet_element in tweet_text_elements[previous_tweet_count:]:\n",
    "                tweet_text = tweet_element.text.strip().replace(\"\\n\", \"\")\n",
    "                all_tweets_data.append({'Texto del Tweet': tweet_text})\n",
    "            previous_tweet_count = current_tweet_count\n",
    "            no_new_tweets_counter = 0  \n",
    "        else:\n",
    "            no_new_tweets_counter += 1\n",
    "            print(f\"No se encontraron nuevos tweets en este intento ({no_new_tweets_counter}/{no_new_tweets_threshold}).\")\n",
    "            if no_new_tweets_counter >= no_new_tweets_threshold:\n",
    "                print(\"Parece que se ha llegado al final de los tweets cargados.\")\n",
    "                break\n",
    "\n",
    "    # Crea el DataFrame de pandas a partir de la lista de diccionarios\n",
    "    df_tweets = pd.DataFrame(all_tweets_data)\n",
    "\n",
    "    # Imprime información sobre el DataFrame resultante\n",
    "    print(f\"\\nSe descargaron {len(df_tweets)} tweets.\")\n",
    "    # print(df_tweets) # Descomentar para ver el DataFrame completo\n",
    "\n",
    "except Exception as e:\n",
    "    print(f\"Ocurrió un error: {e}\")\n",
    "finally:\n",
    "    driver.quit()"
   ]
  },
  {
   "cell_type": "code",
   "execution_count": null,
   "metadata": {},
   "outputs": [
    {
     "name": "stdout",
     "output_type": "stream",
     "text": [
      "Número de scrolls: 1\n",
      "Número de scrolls: 2\n",
      "Número de scrolls: 3\n",
      "Número de scrolls: 4\n",
      "Número de scrolls: 5\n",
      "Número de scrolls: 6\n",
      "Número de scrolls: 7\n",
      "Número de scrolls: 8\n",
      "Número de scrolls: 9\n",
      "Número de scrolls: 10\n",
      "Número de scrolls: 11\n",
      "Número de scrolls: 12\n",
      "Número de scrolls: 13\n",
      "Número de scrolls: 14\n",
      "Número de scrolls: 15\n",
      "Número de scrolls: 16\n",
      "Número de scrolls: 17\n",
      "Número de scrolls: 18\n",
      "Número de scrolls: 19\n",
      "Número de scrolls: 20\n",
      "Número de scrolls: 21\n",
      "Número de scrolls: 22\n",
      "Número de scrolls: 23\n",
      "Número de scrolls: 24\n",
      "Número de scrolls: 25\n",
      "Número de scrolls: 26\n",
      "Número de scrolls: 27\n",
      "Número de scrolls: 28\n",
      "Número de scrolls: 29\n",
      "Número de scrolls: 30\n",
      "Número de scrolls: 31\n",
      "Número de scrolls: 32\n",
      "Número de scrolls: 33\n",
      "Número de scrolls: 34\n",
      "Número de scrolls: 35\n",
      "Número de scrolls: 36\n",
      "Número de scrolls: 37\n",
      "Número de scrolls: 38\n",
      "Número de scrolls: 39\n",
      "Número de scrolls: 40\n",
      "Número de scrolls: 41\n",
      "Número de scrolls: 42\n",
      "Número de scrolls: 43\n",
      "Número de scrolls: 44\n",
      "Número de scrolls: 45\n",
      "Número de scrolls: 46\n",
      "Número de scrolls: 47\n",
      "Número de scrolls: 48\n",
      "Número de scrolls: 49\n",
      "Número de scrolls: 50\n",
      "Número de scrolls: 51\n",
      "Número de scrolls: 52\n",
      "Número de scrolls: 53\n",
      "Número de scrolls: 54\n",
      "Número de scrolls: 55\n",
      "Número de scrolls: 56\n",
      "Número de scrolls: 57\n",
      "Número de scrolls: 58\n",
      "Número de scrolls: 59\n",
      "Número de scrolls: 60\n",
      "Número de scrolls: 61\n",
      "Número de scrolls: 62\n",
      "Número de scrolls: 63\n",
      "Número de scrolls: 64\n",
      "Número de scrolls: 65\n",
      "Número de scrolls: 66\n",
      "Número de scrolls: 67\n",
      "Número de scrolls: 68\n",
      "Número de scrolls: 69\n",
      "Número de scrolls: 70\n",
      "Número de scrolls: 71\n",
      "Número de scrolls: 72\n",
      "Número de scrolls: 73\n",
      "Número de scrolls: 74\n",
      "Número de scrolls: 75\n",
      "Número de scrolls: 76\n",
      "Número de scrolls: 77\n",
      "Número de scrolls: 78\n",
      "Número de scrolls: 79\n",
      "Número de scrolls: 80\n",
      "Número de scrolls: 81\n",
      "Número de scrolls: 82\n",
      "Número de scrolls: 83\n",
      "Número de scrolls: 84\n",
      "Número de scrolls: 85\n",
      "Número de scrolls: 86\n",
      "Número de scrolls: 87\n",
      "Número de scrolls: 88\n",
      "Número de scrolls: 89\n",
      "Número de scrolls: 90\n"
     ]
    }
   ],
   "source": [
    "'''\n",
    "try:\n",
    "    link = tweet_test\n",
    "    driver.get(link)\n",
    "    all_tweets_data = []  # Lista para almacenar los datos de cada tweet\n",
    "    num_scrolls = 90  # Número máximo de scrolls\n",
    "    number = 0\n",
    "    for _ in range(num_scrolls):\n",
    "        number += 1\n",
    "        print(f'Número de scrolls: {number}')\n",
    "        # Espera a que al menos un nuevo elemento 'tweetText' esté presente\n",
    "        WebDriverWait(driver, 45).until(\n",
    "            EC.presence_of_element_located((By.XPATH, '//div[@data-testid=\"tweetText\"]'))\n",
    "        )\n",
    "\n",
    "        # Intenta encontrar y hacer clic en el botón\n",
    "        try:\n",
    "            boton_mostrar_mas = WebDriverWait(driver, 10).until(\n",
    "                #EC.element_to_be_clickable((By.XPATH, boton_xpath))\n",
    "                EC.element_to_be_clickable((By.CSS_SELECTOR, boton_cssselector))                \n",
    "            )\n",
    "            boton_mostrar_mas.click()\n",
    "            time.sleep(3)  # Espera a que se carguen más tweets después de hacer clic\n",
    "        except:\n",
    "            # Si el botón no se encuentra o no es clickable, continúa con el scroll\n",
    "            driver.execute_script(\"window.scrollTo(0, document.body.scrollHeight)\")\n",
    "            time.sleep(3)\n",
    "\n",
    "        html_content = driver.page_source\n",
    "        soup = BeautifulSoup(html_content, 'html.parser')\n",
    "        tweet_text_elements = soup.find_all('div', {'data-testid': 'tweetText'})\n",
    "\n",
    "        for tweet_element in tweet_text_elements:\n",
    "            tweet_text = tweet_element.text.strip().replace(\"\\n\", \"\")\n",
    "            all_tweets_data.append({'Texto del Tweet': tweet_text})\n",
    "\n",
    "    # Crea el DataFrame de pandas a partir de la lista de diccionarios\n",
    "    df_tweets = pd.DataFrame(all_tweets_data)\n",
    "\n",
    "    # Imprime el DataFrame (opcional)\n",
    "    #print(df_tweets)\n",
    "\n",
    "except Exception as e:\n",
    "    print(f\"Ocurrió un error: {e}\")\n",
    "finally:\n",
    "    driver.quit()\n",
    "'''"
   ]
  },
  {
   "cell_type": "code",
   "execution_count": null,
   "metadata": {},
   "outputs": [],
   "source": [
    "'''\n",
    "try:\n",
    "    link = tweet_test\n",
    "    driver.get(link)\n",
    "    all_tweets_data = []  # Lista para almacenar los datos de cada tweet\n",
    "\n",
    "    for _ in range(50):  # Ajusta el número de scrolls según sea necesario\n",
    "        # Espera a que al menos un nuevo elemento 'tweetText' esté presente\n",
    "        WebDriverWait(driver, 15).until(\n",
    "            EC.presence_of_element_located((By.XPATH, '//div[@data-testid=\"tweetText\"]'))\n",
    "        )\n",
    "        html_content = driver.page_source\n",
    "        soup = BeautifulSoup(html_content, 'html.parser')\n",
    "        tweet_text_elements = soup.find_all('div', {'data-testid': 'tweetText'})\n",
    "\n",
    "        for tweet_element in tweet_text_elements:\n",
    "            tweet_text = tweet_element.text.strip().replace(\"\\n\", \"\")\n",
    "            all_tweets_data.append({'Texto del Tweet': tweet_text})\n",
    "\n",
    "        driver.execute_script(\"window.scrollTo(0, document.body.scrollHeight)\")\n",
    "        time.sleep(3) # Un pequeño tiempo de espera después del scroll\n",
    "\n",
    "    # Crea el DataFrame de pandas a partir de la lista de diccionarios\n",
    "    df_tweets = pd.DataFrame(all_tweets_data)\n",
    "\n",
    "    # Imprime el DataFrame (opcional)\n",
    "    #print(df_tweets)\n",
    "\n",
    "except Exception as e:\n",
    "    print(f\"Ocurrió un error: {e}\")\n",
    "finally:\n",
    "    driver.quit()\n",
    "'''"
   ]
  },
  {
   "cell_type": "code",
   "execution_count": 122,
   "metadata": {},
   "outputs": [
    {
     "data": {
      "text/plain": [
       "(27, 1)"
      ]
     },
     "execution_count": 122,
     "metadata": {},
     "output_type": "execute_result"
    }
   ],
   "source": [
    "df_tweets.shape"
   ]
  },
  {
   "cell_type": "code",
   "execution_count": 123,
   "metadata": {},
   "outputs": [
    {
     "data": {
      "application/vnd.microsoft.datawrangler.viewer.v0+json": {
       "columns": [
        {
         "name": "index",
         "rawType": "int64",
         "type": "integer"
        },
        {
         "name": "Texto del Tweet",
         "rawType": "object",
         "type": "string"
        }
       ],
       "conversionMethod": "pd.DataFrame",
       "ref": "3724dc95-ae45-4c6e-b864-5644a575b783",
       "rows": [
        [
         "22",
         "Lo que usted Tio me quiera regalar, para pagarle a @BancoAzteca  ahora que me quede sin trabajo."
        ],
        [
         "23",
         "Neither gold nor Bitcoin is inherently \"better\"—it depends on your goals."
        ],
        [
         "24",
         "Oro"
        ],
        [
         "25",
         "Bitcoin y tu?"
        ],
        [
         "26",
         "No pongas tu mundo de cabeza. Con la app de intermx  lleva tu póliza siempre contigo o contrata tu seguro"
        ]
       ],
       "shape": {
        "columns": 1,
        "rows": 5
       }
      },
      "text/html": [
       "<div>\n",
       "<style scoped>\n",
       "    .dataframe tbody tr th:only-of-type {\n",
       "        vertical-align: middle;\n",
       "    }\n",
       "\n",
       "    .dataframe tbody tr th {\n",
       "        vertical-align: top;\n",
       "    }\n",
       "\n",
       "    .dataframe thead th {\n",
       "        text-align: right;\n",
       "    }\n",
       "</style>\n",
       "<table border=\"1\" class=\"dataframe\">\n",
       "  <thead>\n",
       "    <tr style=\"text-align: right;\">\n",
       "      <th></th>\n",
       "      <th>Texto del Tweet</th>\n",
       "    </tr>\n",
       "  </thead>\n",
       "  <tbody>\n",
       "    <tr>\n",
       "      <th>22</th>\n",
       "      <td>Lo que usted Tio me quiera regalar, para pagar...</td>\n",
       "    </tr>\n",
       "    <tr>\n",
       "      <th>23</th>\n",
       "      <td>Neither gold nor Bitcoin is inherently \"better...</td>\n",
       "    </tr>\n",
       "    <tr>\n",
       "      <th>24</th>\n",
       "      <td>Oro</td>\n",
       "    </tr>\n",
       "    <tr>\n",
       "      <th>25</th>\n",
       "      <td>Bitcoin y tu?</td>\n",
       "    </tr>\n",
       "    <tr>\n",
       "      <th>26</th>\n",
       "      <td>No pongas tu mundo de cabeza. Con la app de in...</td>\n",
       "    </tr>\n",
       "  </tbody>\n",
       "</table>\n",
       "</div>"
      ],
      "text/plain": [
       "                                      Texto del Tweet\n",
       "22  Lo que usted Tio me quiera regalar, para pagar...\n",
       "23  Neither gold nor Bitcoin is inherently \"better...\n",
       "24                                                Oro\n",
       "25                                      Bitcoin y tu?\n",
       "26  No pongas tu mundo de cabeza. Con la app de in..."
      ]
     },
     "execution_count": 123,
     "metadata": {},
     "output_type": "execute_result"
    }
   ],
   "source": [
    "df_tweets.tail()"
   ]
  },
  {
   "cell_type": "code",
   "execution_count": 124,
   "metadata": {},
   "outputs": [],
   "source": [
    "df_tweets.to_csv('tweets2.csv', index=False, encoding='utf-8-sig')"
   ]
  },
  {
   "cell_type": "code",
   "execution_count": 38,
   "metadata": {},
   "outputs": [
    {
     "data": {
      "text/plain": [
       "'\\nlast_height = driver.execute_script(\"return document.body.scrollHeight\")\\nwhile True:\\n    # Scroll hasta el fin \\n    driver.execute_script(\"window.scrollTo(0, document.body.scrollHeight)\")\\n\\n    # Espera a que la página se cargue \\n    time.sleep(4)\\n\\n\\n    # Recalcula la altura de la página\\n    new_height = driver.execute_script(\"return document.body.scrollHeight\")\\n\\n    # Si ya no aumenta la altura, se termina el bucle\\n    if new_height == last_height:\\n        break\\n    last_height = new_height\\n'"
      ]
     },
     "execution_count": 38,
     "metadata": {},
     "output_type": "execute_result"
    }
   ],
   "source": [
    "'''\n",
    "last_height = driver.execute_script(\"return document.body.scrollHeight\")\n",
    "while True:\n",
    "    # Scroll hasta el fin \n",
    "    driver.execute_script(\"window.scrollTo(0, document.body.scrollHeight)\")\n",
    "\n",
    "    # Espera a que la página se cargue \n",
    "    time.sleep(4)\n",
    "\n",
    "\n",
    "    # Recalcula la altura de la página\n",
    "    new_height = driver.execute_script(\"return document.body.scrollHeight\")\n",
    "\n",
    "    # Si ya no aumenta la altura, se termina el bucle\n",
    "    if new_height == last_height:\n",
    "        break\n",
    "    last_height = new_height\n",
    "'''"
   ]
  },
  {
   "cell_type": "code",
   "execution_count": 50,
   "metadata": {},
   "outputs": [],
   "source": [
    "from bs4 import BeautifulSoup\n"
   ]
  },
  {
   "cell_type": "code",
   "execution_count": null,
   "metadata": {},
   "outputs": [
    {
     "name": "stdout",
     "output_type": "stream",
     "text": [
      "Tweet 1: ¿Que prefieren #Bitcoin u oro?\n",
      "Tweet 2: ¿Que prefieren #Bitcoin u oro?\n",
      "Tweet 3: ¿Que prefieren #Bitcoin u oro?\n",
      "Tweet 4: ¿Que prefieren #Bitcoin u oro?\n",
      "Tweet 5: ¿Que prefieren #Bitcoin u oro?\n",
      "Tweet 6: ¿Que prefieren #Bitcoin u oro?\n",
      "Tweet 7: ¿Que prefieren #Bitcoin u oro?\n",
      "Tweet 8: ¿Que prefieren #Bitcoin u oro?\n",
      "Tweet 9: ¿Que prefieren #Bitcoin u oro?\n",
      "Tweet 10: ¿Que prefieren #Bitcoin u oro?\n"
     ]
    }
   ],
   "source": [
    "'''\n",
    "try:\n",
    "    link = tweet_test\n",
    "    driver.get(link)\n",
    "    tweet_text_elements = []\n",
    "    # Scroll 5 times to load more tweets\n",
    "    for _ in range(45):\n",
    "        driver.execute_script(\"window.scrollTo(0, document.body.scrollHeight)\")\n",
    "        time.sleep(5) \n",
    "        html_content = driver.page_source\n",
    "        soup = BeautifulSoup(html_content, 'html.parser')\n",
    "        # Find all elements with 'tweetText'\n",
    "        tweet_text_elements.extend(soup.find_all('div', {'data-testid': 'tweetText'}))\n",
    "    # first 10 tweet\n",
    "    for i, tweet_text_element in enumerate(tweet_text_elements):\n",
    "        tweet_text = tweet_text_element.text.strip().replace(\"\\n\", \"\")\n",
    "        print(f\"Tweet {i+1}: {tweet_text}\")\n",
    "finally:\n",
    "    driver.quit()\n",
    "'''"
   ]
  },
  {
   "cell_type": "code",
   "execution_count": 52,
   "metadata": {},
   "outputs": [
    {
     "data": {
      "text/plain": [
       "305"
      ]
     },
     "execution_count": 52,
     "metadata": {},
     "output_type": "execute_result"
    }
   ],
   "source": [
    "len(tweet_text_elements)"
   ]
  },
  {
   "cell_type": "code",
   "execution_count": 56,
   "metadata": {},
   "outputs": [
    {
     "name": "stdout",
     "output_type": "stream",
     "text": [
      "                                                   col\n",
      "0         [[¿Que prefieren ], [[#Bitcoin]], [ u oro?]]\n",
      "1         [[¿Que prefieren ], [[#Bitcoin]], [ u oro?]]\n",
      "2         [[¿Que prefieren ], [[#Bitcoin]], [ u oro?]]\n",
      "3         [[¿Que prefieren ], [[#Bitcoin]], [ u oro?]]\n",
      "4         [[¿Que prefieren ], [[#Bitcoin]], [ u oro?]]\n",
      "..                                                 ...\n",
      "300  [[\"El capitalismo desenfrenado\"(NEOLIBERALISMO...\n",
      "301                                            [[Oro]]\n",
      "302                                            [[ORO]]\n",
      "303                                            [[Oro]]\n",
      "304                                            [[Oro]]\n",
      "\n",
      "[305 rows x 1 columns]\n"
     ]
    }
   ],
   "source": [
    "import pandas as pd \n",
    "df = pd.DataFrame({'col':tweet_text_elements})\n",
    "print(df)\n",
    "\n",
    "df.to_csv('tweets.csv', index=False, encoding='utf-8-sig')"
   ]
  },
  {
   "cell_type": "code",
   "execution_count": 59,
   "metadata": {},
   "outputs": [
    {
     "name": "stdout",
     "output_type": "stream",
     "text": [
      "e:\\Users\\1167486\\Local\\scripts\\Social_media_comments\\test\n"
     ]
    }
   ],
   "source": [
    "import os \n",
    "os.currentdir = os.getcwd()\n",
    "print(os.currentdir)"
   ]
  },
  {
   "cell_type": "code",
   "execution_count": 53,
   "metadata": {},
   "outputs": [
    {
     "name": "stdout",
     "output_type": "stream",
     "text": [
      "¿Que prefieren #Bitcoin u oro?\n",
      "¿Que prefieren #Bitcoin u oro?\n",
      "¿Que prefieren #Bitcoin u oro?\n",
      "¿Que prefieren #Bitcoin u oro?\n",
      "¿Que prefieren #Bitcoin u oro?\n",
      "¿Que prefieren #Bitcoin u oro?\n",
      "¿Que prefieren #Bitcoin u oro?\n",
      "¿Que prefieren #Bitcoin u oro?\n",
      "¿Que prefieren #Bitcoin u oro?\n",
      "¿Que prefieren #Bitcoin u oro?\n",
      "¿Que prefieren #Bitcoin u oro?\n",
      "¿Que prefieren #Bitcoin u oro?\n",
      "¿Que prefieren #Bitcoin u oro?\n",
      "¿Que prefieren #Bitcoin u oro?\n",
      "¿Que prefieren #Bitcoin u oro?\n",
      "¿Que prefieren #Bitcoin u oro?\n",
      "¿Que prefieren #Bitcoin u oro?\n",
      "¿Que prefieren #Bitcoin u oro?\n",
      "¿Que prefieren #Bitcoin u oro?\n",
      "¿Que prefieren #Bitcoin u oro?\n",
      "¿Que prefieren #Bitcoin u oro?\n",
      "¿Que prefieren #Bitcoin u oro?\n",
      "¿Que prefieren #Bitcoin u oro?\n",
      "¿Que prefieren #Bitcoin u oro?\n",
      "¿Que prefieren #Bitcoin u oro?\n",
      "¿Que prefieren #Bitcoin u oro?\n",
      "¿Que prefieren #Bitcoin u oro?\n",
      "¿Que prefieren #Bitcoin u oro?\n",
      "¿Que prefieren #Bitcoin u oro?\n",
      "¿Que prefieren #Bitcoin u oro?\n",
      "¿Que prefieren #Bitcoin u oro?\n",
      "¿Que prefieren #Bitcoin u oro?\n",
      "¿Que prefieren #Bitcoin u oro?\n",
      "¿Que prefieren #Bitcoin u oro?\n",
      "¿Que prefieren #Bitcoin u oro?\n",
      "¿Que prefieren #Bitcoin u oro?\n",
      "¿Que prefieren #Bitcoin u oro?\n",
      "¿Que prefieren #Bitcoin u oro?\n",
      "¿Que prefieren #Bitcoin u oro?\n",
      "¿Que prefieren #Bitcoin u oro?\n",
      "¿Que prefieren #Bitcoin u oro?\n",
      "¿Que prefieren #Bitcoin u oro?\n",
      "¿Que prefieren #Bitcoin u oro?\n",
      "¿Que prefieren #Bitcoin u oro?\n",
      "¿Que prefieren #Bitcoin u oro?\n",
      "¿Que prefieren #Bitcoin u oro?\n",
      "¿Que prefieren #Bitcoin u oro?\n",
      "¿Que prefieren #Bitcoin u oro?\n",
      "¿Que prefieren #Bitcoin u oro?\n",
      "¿Que prefieren #Bitcoin u oro?\n",
      "¿Que prefieren #Bitcoin u oro?\n",
      "¿Que prefieren #Bitcoin u oro?\n",
      "¿Que prefieren #Bitcoin u oro?\n",
      "¿Que prefieren #Bitcoin u oro?\n",
      "¿Que prefieren #Bitcoin u oro?\n",
      "¿Que prefieren #Bitcoin u oro?\n",
      "¿Que prefieren #Bitcoin u oro?\n",
      "¿Que prefieren #Bitcoin u oro?\n",
      "¿Que prefieren #Bitcoin u oro?\n",
      "¿Que prefieren #Bitcoin u oro?\n",
      "¿Que prefieren #Bitcoin u oro?\n",
      "¿Que prefieren #Bitcoin u oro?\n",
      "¿Que prefieren #Bitcoin u oro?\n",
      "¿Que prefieren #Bitcoin u oro?\n",
      "¿Que prefieren #Bitcoin u oro?\n",
      "¿Que prefieren #Bitcoin u oro?\n",
      "¿Que prefieren #Bitcoin u oro?\n",
      "¿Que prefieren #Bitcoin u oro?\n",
      "¿Que prefieren #Bitcoin u oro?\n",
      "BTC\n",
      "Si ya sabe, para que pregunta tío Richie!\n",
      "Puro team oregano\n",
      "Au\n",
      "El Oro seguirá siendo el metal más valioso, hasta en tanto no caiga un meteoro y traiga otro metal más valioso. El bitcóin es una incertidumbre aún.\n",
      "Esa pregunta la respondí mal en el 2013.El Oro ha subido casi al triple desde ahi...En cambio Bitcoin: 400 Veces\n",
      "Disfruta de los mejores encuentros y la mayor oferta de la Liga MX, solo ViX ¡Suscríbete Ya!\n",
      "Bitcoin\n",
      "Oro\n",
      "Oro, el Bitcoin es muy riesgoso\n",
      "Bitcoin\n",
      "Bitcoin sin duda\n",
      "Btc\n",
      "Bitcoin\n",
      "BTC Que Claro\n",
      "Bitcoin\n",
      "100% bitcoin!!!!\n",
      "Bitcoin\n",
      "Bitcoin\n",
      "Mándame bitcoin tío\n",
      "El oro fue respaldo porque es escaso y real. El dólar vale por decreto. Así como la Fed le dio valor a un papel, ahora viene una cripto respaldada en oro… Sí, BTC abrió la puerta, pero viene una más grande. Se avecina la nueva Reserva Federal.\n",
      "Btc\n",
      "Prefiero que pague los 60mil millones que le debe al SAT viejo pinche\n",
      "Bitcoin 100%! Y tú @RicardoBSalinas ?\n",
      "$BTC\n",
      "Yo prefiero que ya pagues lo que debes al @SATMX, reptiliano bocón.\n",
      "Te diría que volver a tener el permiso de cobrar impuestos, pero ....cómo ya te conocen ...que tienes las uñas largas. Jajaja\n",
      "Oro\n",
      "Oro\n",
      "Si tuviera que elegir uno Tio Ricky seria el BTC por su movilidad y facilidad de convertir en efectivo.\n",
      "No están peleados pero si debo escoger uno sería btc\n",
      "Oro!\n",
      "oro\n",
      "El futuro de la construcción ya está aquí.¿Sabías que en Cemex, estamos adoptando nuevas tecnologías como los camiones revolvedores 100% eléctricos? Como parte de nuestro programa Futuro en Acción, impulsamos la construcción sostenible con soluciones innovadoras.\n",
      "BTC siempre\n",
      "Gold.\n",
      "Oro, pero para usar\n",
      "Mil veces prefiero que ya pagues lo que debes de impuesto al sat....miserable\n",
      "Bitcoin\n",
      "$BTC... el oro.... jummm cautela\n",
      "Yo no invertiría en Oro, porque está muy alto.Y en Bitcoin tampoco, porque viene en tendencia bajista.\n",
      "Oro , en mano ,, y si se va la luz ?\n",
      "Bitcoin\n",
      "Con Bitcoin puedes estar en cualquier parte del planeta sin pasar por regulaciones locales.\n",
      "Btc\n",
      "Bitcoin\n",
      "Tío, no se nada del bitcoin así que prefiero oro.Incluso soy de la idea de usar un Patrón Oro para acabar con la inflación.\n",
      "Ya quisiera el oro tener las cualidades de Bitcoin.\n",
      "Bitcoin\n",
      "El oro se usa en la tecnología que sustenta la creación y mantenimientos de bitcoins, IA y el futuro inmediato. Tú dirás.\n",
      "Indy Fontaine presenta una poderosa interpretación de \"Mientes\", originalmente de Camila. Desde su estudio, Indy captura la intensidad emocional de esta balada con su propia voz y estilo. No te pierdas esta emotiva versión en vivo que te llegará al corazón. Si te gustó, ¡dale\n",
      "Oro mantener, Bitcoin hacer o perder… los dos son buenos depende de lo que quieras\n",
      "El metal difícilmente se deprecia porque al escasear sube su valor , la criptomoneda puede desaparecer de un momento a otro con el capital invertido .\n",
      "BTC\n",
      "Bitcoin\n",
      "Bitcoin\n",
      "Prefiero oro a como me manejo. Bitcoin lo desconozco y no sé cómo multiplicar lo, en este caso la liquidez no es tanta pero lo que si se manejar.\n",
      "B I T C O I N S O L A M E N T E\n",
      "Oro mil veces, pero en mucha cantidad, y bitcoin con unas 10 sales bien jajaja\n",
      "Bitcoin\n",
      "Neither gold nor Bitcoin is inherently \"better\"—it depends on your goals.\n",
      "$Bitcoin 100%\n",
      "Oro\n",
      "Oro\n",
      "Bitcoin tío Richie  Para tener mi primer millón.\n",
      "#Bitcoin\n",
      "Oro tío ! O dime qué recomiendas ?\n",
      "¿En estos momentos? Bitcoin, sin dudarlo. El que EEUU esté coqueteando con la criptomoneda para respaldarse le dará un brinco positivo muy importante.\n",
      "El oro jamás pierde valor así que escojo 1000 veces el oro\n",
      "Oro mil veces.\n",
      "Bitcoin\n",
      "Aeroméxico celebra a quienes han volado toda su vida y hacen volar nuestra cultura. #FanáticosDelArteDeVolar\n",
      "Gold all the way!!!\n",
      "Depende , si no quieres que tú dinero lo \"toquen\" los gibiernicolas , #Bitcoin\n",
      "Oro. Seguimos esperando el giveaway del kilito\n",
      "que las acciones de elektra ya no son opción ????\n",
      "#Oro el bitcoin todavía me pone nerviosa\n",
      "Bitcoin.\n",
      "Obviamente Bitcoin, To the moon #BTC\n",
      "Oro\n",
      "Oro, sirve aunque no haya corriente ni energía eléctrica\n",
      "Ayer oro, hoy $btc normalmente corre primero el oro y luego bitcoin\n",
      "No hay que compararlas.Solo hay que mantenerlasEl largo plazo, con estas 2 en particular, siempre hará su chamba...\n",
      "#Bitcoin,  porque no requiere almacenaje físico.\n",
      "Que pagues tus impuestos, usurero.\n",
      "#Bitcoin\n",
      "Oro, definitivamente.\n",
      "Bitcoin\n",
      "¡Oro! ¡Saludos!\n",
      "ORO\n",
      "Titulación Por Experiencia Laboral en 4 Meses  Sin Exámenes ni Cursos. Con base a tu Experiencia Laboral. En línea o presencial. Sin descuidar tu trabajo. Válido para todo México.  Envíenos un Correo Electrónico:DespachoCeneval@hotmail.com\n",
      "El oro es más estable\n",
      "Centenarios definitivamente\n",
      "Oro\n",
      "Oro\n",
      "Oro\n",
      "Oro.\n",
      "OroSiempre.ore oro\n",
      "Oro\n",
      "Oro !\n",
      "Oro\n",
      "Bitcoin\n",
      "Bitcoin se mira mas prometedor pero con un proceso mas doloroso.  Si el oro fuera mas fuerte, el precio tendria que estar en los millones.  Yo diria diversification, pero mas Bitcoin que oro.\n",
      "BitcoinTú me has cambiado por bitcoinTe has olvidado de lo sentimentalPor un puño de blockchainBitcoin El amarillo del bitcoin Te gustó mas de lo que yo te ofrecíY ahora tú te vas de míBitcoinEl bitcoin cambió tu amor\n",
      "#Bitcoin #btc\n",
      "Solo he probado con #Bitcoin con muy buenos resultados hasta ahora. Saludos\n",
      ">100% de asignación en #Bitcoin !no hay segundo mejor, tío\n",
      "btc!! es divisible y puedes llevar millones por el aerepuerto\n",
      "Oro tío siempre\n",
      "Btc\n",
      "Oro\n",
      "Que pagues tus impuestos\n",
      "What's the next Bitcoin? I have investment but don't know where to invest.#JENCHELLA #TheLastOfUs #WrestleMania    #imdev #ทรายสก๊อต #JENNIE #JENCHELLA2025 #balançogeralrj #sefuelarga #HappyEaster\n",
      "Bitcoin\n",
      "@AztecaNoticias @DeptofDefense\n",
      "Uyy, lo sentimos mucho, todavía no hemos preparado la cena para ustedes, acabamos de prepararles su \"Nada en absoluto\" a la @Defensamx1, sean pacientes, ya vamos para allá.Este mes no hay cena para la @Defensamx1 pero si que habrá cena para los habitantes de Camerún.  x.com/azucenau/statu…\n",
      "@AztecaNoticias Hoy la @Defensamx1 cena \"Nada en absoluto\"\n",
      "No hay cena hoy para la @Defensamx1, ni en un mes, €18,000,000 EUR son transferidos de inmediato a Camerún.@cameroonpm237 @un_cameroon\n",
      "Only children make choices. I want both. Haha\n",
      "Bitcoin 100%!\n",
      "@AztecaNoticias\n",
      "Damos la completa felicitación al Cártel de Jalisco Nueva Generación por abandonar las armas a favor del crimen organizado y unirse a los esfuerzos de agrupaciones Delta para combatir el terrorismo.  x.com/DerechaDiarioM…\n",
      "Bitcoin is a better gold.\n",
      "No mames ricardo! Todo lo que se gana en BC. Se convierte en oro! Nada más un oPendejo! Mantiene su fortuna en una chingadera tan volátil!? También en propiedades y bienes reales! Por eso nos negocios bien fondeados, no tienen problemas de fluctuación, pero pues tú sabes de\n",
      "Bitcoin\n",
      "Oro\n",
      "Oro\n",
      "#BTC\n",
      "Both\n",
      "Yo prefiero XRP !!\n",
      "#BITCOIN\n",
      "BTC 100%\n",
      "Hubiese preferido que no CANCELARAN POR SEGUNDA VEZ la inauguración de la Arena Guadalajara. Están peor que la mamada del AIFA y el Tren Maya\n",
      "Un Match 50/50 @RicardoBSalinas Una  que pueda respaldarse e intercambiarse por  ORO CC@trumpjr_trj@elonmusk@JMilei@nayibbukele\n",
      "Bitcoin\n",
      "Oro\n",
      "Oro\n",
      "#BTC\n",
      "Both\n",
      "Yo prefiero XRP !!\n",
      "#BITCOIN\n",
      "BTC 100%\n",
      "Hubiese preferido que no CANCELARAN POR SEGUNDA VEZ la inauguración de la Arena Guadalajara. Están peor que la mamada del AIFA y el Tren Maya\n",
      "Un Match 50/50 @RicardoBSalinas Una  que pueda respaldarse e intercambiarse por  ORO CC@trumpjr_trj@elonmusk@JMilei@nayibbukele\n",
      "Oro\n",
      "Oro\n",
      "Solana\n",
      "Gold. Beautiful valuable gold.Both are great assets though. El oro tiene más broncas, tengo un amigo canadiense que tiene mucho oro y se mudó a México, el problema es que no lo puede sacar de Canadá. Bitcoin sirve everyfuckingwhere y es mucho más privado (entre comillas )\n",
      "Bitcoin\n",
      "Both #Bitcoin and #GOLD\n",
      "Oro porque el Bitcoin no es un refugio de valor\n",
      "El Oro es rey\n",
      "Bien simple sólo paga y de ahí a chingar a su madre\n",
      "Bitcoin\n",
      "\"El capitalismo desenfrenado\"(NEOLIBERALISMO)es un capitalismo delincuencial donde ya no hay ética ni principios humanos, lo mismo son secuestradores, corruptos, o evasores de impuestos, Eje: hermana de  @XochitlGalvez o @RicardoBSalinas@CarlosLoret @aristeguicnn @lopezdoriga\n",
      "Oro\n",
      "ORO\n",
      "Oro\n",
      "Oro\n",
      "Bien simple sólo paga y de ahí a chingar a su madre\n",
      "Bitcoin\n",
      "\"El capitalismo desenfrenado\"(NEOLIBERALISMO)es un capitalismo delincuencial donde ya no hay ética ni principios humanos, lo mismo son secuestradores, corruptos, o evasores de impuestos, Eje: hermana de  @XochitlGalvez o @RicardoBSalinas@CarlosLoret @aristeguicnn @lopezdoriga\n",
      "Oro\n",
      "ORO\n",
      "Oro\n",
      "Oro\n",
      "Bien simple sólo paga y de ahí a chingar a su madre\n",
      "Bitcoin\n",
      "\"El capitalismo desenfrenado\"(NEOLIBERALISMO)es un capitalismo delincuencial donde ya no hay ética ni principios humanos, lo mismo son secuestradores, corruptos, o evasores de impuestos, Eje: hermana de  @XochitlGalvez o @RicardoBSalinas@CarlosLoret @aristeguicnn @lopezdoriga\n",
      "Oro\n",
      "ORO\n",
      "Oro\n",
      "Oro\n",
      "Bien simple sólo paga y de ahí a chingar a su madre\n",
      "Bitcoin\n",
      "\"El capitalismo desenfrenado\"(NEOLIBERALISMO)es un capitalismo delincuencial donde ya no hay ética ni principios humanos, lo mismo son secuestradores, corruptos, o evasores de impuestos, Eje: hermana de  @XochitlGalvez o @RicardoBSalinas@CarlosLoret @aristeguicnn @lopezdoriga\n",
      "Oro\n",
      "ORO\n",
      "Oro\n",
      "Oro\n",
      "Bien simple sólo paga y de ahí a chingar a su madre\n",
      "Bitcoin\n",
      "\"El capitalismo desenfrenado\"(NEOLIBERALISMO)es un capitalismo delincuencial donde ya no hay ética ni principios humanos, lo mismo son secuestradores, corruptos, o evasores de impuestos, Eje: hermana de  @XochitlGalvez o @RicardoBSalinas@CarlosLoret @aristeguicnn @lopezdoriga\n",
      "Oro\n",
      "ORO\n",
      "Oro\n",
      "Oro\n",
      "Bien simple sólo paga y de ahí a chingar a su madre\n",
      "Bitcoin\n",
      "\"El capitalismo desenfrenado\"(NEOLIBERALISMO)es un capitalismo delincuencial donde ya no hay ética ni principios humanos, lo mismo son secuestradores, corruptos, o evasores de impuestos, Eje: hermana de  @XochitlGalvez o @RicardoBSalinas@CarlosLoret @aristeguicnn @lopezdoriga\n",
      "Oro\n",
      "ORO\n",
      "Oro\n",
      "Oro\n",
      "Bien simple sólo paga y de ahí a chingar a su madre\n",
      "Bitcoin\n",
      "\"El capitalismo desenfrenado\"(NEOLIBERALISMO)es un capitalismo delincuencial donde ya no hay ética ni principios humanos, lo mismo son secuestradores, corruptos, o evasores de impuestos, Eje: hermana de  @XochitlGalvez o @RicardoBSalinas@CarlosLoret @aristeguicnn @lopezdoriga\n",
      "Oro\n",
      "ORO\n",
      "Oro\n",
      "Oro\n",
      "Bien simple sólo paga y de ahí a chingar a su madre\n",
      "Bitcoin\n",
      "\"El capitalismo desenfrenado\"(NEOLIBERALISMO)es un capitalismo delincuencial donde ya no hay ética ni principios humanos, lo mismo son secuestradores, corruptos, o evasores de impuestos, Eje: hermana de  @XochitlGalvez o @RicardoBSalinas@CarlosLoret @aristeguicnn @lopezdoriga\n",
      "Oro\n",
      "ORO\n",
      "Oro\n",
      "Oro\n",
      "Bien simple sólo paga y de ahí a chingar a su madre\n",
      "Bitcoin\n",
      "\"El capitalismo desenfrenado\"(NEOLIBERALISMO)es un capitalismo delincuencial donde ya no hay ética ni principios humanos, lo mismo son secuestradores, corruptos, o evasores de impuestos, Eje: hermana de  @XochitlGalvez o @RicardoBSalinas@CarlosLoret @aristeguicnn @lopezdoriga\n",
      "Oro\n",
      "ORO\n",
      "Oro\n",
      "Oro\n",
      "Bien simple sólo paga y de ahí a chingar a su madre\n",
      "Bitcoin\n",
      "\"El capitalismo desenfrenado\"(NEOLIBERALISMO)es un capitalismo delincuencial donde ya no hay ética ni principios humanos, lo mismo son secuestradores, corruptos, o evasores de impuestos, Eje: hermana de  @XochitlGalvez o @RicardoBSalinas@CarlosLoret @aristeguicnn @lopezdoriga\n",
      "Oro\n",
      "ORO\n",
      "Oro\n",
      "Oro\n",
      "Bien simple sólo paga y de ahí a chingar a su madre\n",
      "Bitcoin\n",
      "\"El capitalismo desenfrenado\"(NEOLIBERALISMO)es un capitalismo delincuencial donde ya no hay ética ni principios humanos, lo mismo son secuestradores, corruptos, o evasores de impuestos, Eje: hermana de  @XochitlGalvez o @RicardoBSalinas@CarlosLoret @aristeguicnn @lopezdoriga\n",
      "Oro\n",
      "ORO\n",
      "Oro\n",
      "Oro\n",
      "Bien simple sólo paga y de ahí a chingar a su madre\n",
      "Bitcoin\n",
      "\"El capitalismo desenfrenado\"(NEOLIBERALISMO)es un capitalismo delincuencial donde ya no hay ética ni principios humanos, lo mismo son secuestradores, corruptos, o evasores de impuestos, Eje: hermana de  @XochitlGalvez o @RicardoBSalinas@CarlosLoret @aristeguicnn @lopezdoriga\n",
      "Oro\n",
      "ORO\n",
      "Oro\n",
      "Oro\n"
     ]
    }
   ],
   "source": [
    "for i, tweet_text_element in enumerate(tweet_text_elements):\n",
    "    print(tweet_text_element.text.strip().replace(\"\\n\", \"\"))"
   ]
  },
  {
   "cell_type": "code",
   "execution_count": 21,
   "metadata": {},
   "outputs": [],
   "source": [
    "from bs4 import BeautifulSoup\n",
    "html_content = driver.page_source\n",
    "soup = BeautifulSoup(html_content, 'html.parser')\n",
    "x = soup.find_all('div', {'data-testid': 'tweetText'})\n",
    "\n"
   ]
  },
  {
   "cell_type": "code",
   "execution_count": 22,
   "metadata": {},
   "outputs": [
    {
     "name": "stdout",
     "output_type": "stream",
     "text": [
      "Tweet 1: Un millón de veces mejor el oro.\n",
      "Tweet 2: Bien simple sólo paga y de ahí a chingar a su madre\n",
      "Tweet 3: Bitcoin\n",
      "Tweet 4: Oro\n",
      "Tweet 5: \"El capitalismo desenfrenado\"(NEOLIBERALISMO)es un capitalismo delincuencial donde ya no hay ética ni principios humanos, lo mismo son secuestradores, corruptos, o evasores de impuestos, Eje: hermana de  @XochitlGalvez o @RicardoBSalinas@CarlosLoret @aristeguicnn @lopezdoriga\n",
      "Tweet 6: ORO\n",
      "Tweet 7: Oro\n",
      "Tweet 8: Oro\n"
     ]
    }
   ],
   "source": [
    "for i, tweet_text_element in enumerate(x):\n",
    "    tweet_text = tweet_text_element.text.strip().replace(\"\\n\", \"\")\n",
    "    print(f\"Tweet {i+1}: {tweet_text}\")"
   ]
  },
  {
   "cell_type": "code",
   "execution_count": null,
   "metadata": {},
   "outputs": [],
   "source": [
    "'''\n",
    "try:\n",
    "    link = 'https://twitter.com/elonmusk'\n",
    "    driver.get(link)\n",
    "\n",
    "    tweet_text_elements = []\n",
    "\n",
    "    # Scroll 5 times to load more tweets\n",
    "    for _ in range(5):\n",
    "        driver.execute_script(\"window.scrollTo(0, document.body.scrollHeight)\")\n",
    "        time.sleep(2) \n",
    "\n",
    "        html_content = driver.page_source\n",
    "        soup = BeautifulSoup(html_content, 'html.parser')\n",
    "\n",
    "        # Find all elements with 'tweetText'\n",
    "        tweet_text_elements.extend(soup.find_all('div', {'data-testid': 'tweetText'}))\n",
    "\n",
    "    # first 10 tweet\n",
    "    for i, tweet_text_element in enumerate(tweet_text_elements[:10]):\n",
    "        tweet_text = tweet_text_element.text.strip().replace(\"\\n\", \"\")\n",
    "        print(f\"Tweet {i+1}: {tweet_text}\")\n",
    "\n",
    "finally:\n",
    "    driver. Quit()\n",
    "'''"
   ]
  },
  {
   "cell_type": "code",
   "execution_count": null,
   "metadata": {},
   "outputs": [
    {
     "data": {
      "text/plain": [
       "8"
      ]
     },
     "execution_count": 18,
     "metadata": {},
     "output_type": "execute_result"
    }
   ],
   "source": [
    "comments = driver.find_elements(\"css selector\", \"div[data-testid='tweetText']\")\n",
    "comments[0].text\n",
    "#driver.find_element(By.ID, 'tweetText')\n",
    "len(comments)"
   ]
  },
  {
   "cell_type": "code",
   "execution_count": 17,
   "metadata": {},
   "outputs": [
    {
     "data": {
      "text/plain": [
       "7"
      ]
     },
     "execution_count": 17,
     "metadata": {},
     "output_type": "execute_result"
    }
   ],
   "source": [
    "tweets = driver.find_elements(\"css selector\", \"article[data-testid='tweet']\")\n",
    "tweets[0].text\n",
    "len(tweets)\n"
   ]
  },
  {
   "cell_type": "code",
   "execution_count": 60,
   "metadata": {},
   "outputs": [
    {
     "data": {
      "text/plain": [
       "3"
      ]
     },
     "execution_count": 60,
     "metadata": {},
     "output_type": "execute_result"
    }
   ],
   "source": [
    "len(tweets)\n"
   ]
  },
  {
   "cell_type": "code",
   "execution_count": 48,
   "metadata": {},
   "outputs": [
    {
     "data": {
      "text/plain": [
       "17"
      ]
     },
     "execution_count": 48,
     "metadata": {},
     "output_type": "execute_result"
    }
   ],
   "source": [
    "len(tweets)"
   ]
  },
  {
   "cell_type": "code",
   "execution_count": null,
   "metadata": {},
   "outputs": [],
   "source": []
  },
  {
   "cell_type": "code",
   "execution_count": 37,
   "metadata": {},
   "outputs": [],
   "source": [
    "#names = driver.find_elements('css selector', \"span[class='css-1jxf684 r-bcqeeo r-1ttztb7 r-qvutc0 r-poiln3']\")\n",
    "names = driver.find_elements(\"css selector\", \"div[data-testid='User-Name']\")\n",
    "\n",
    "#names = driver.find_elements(By.XPATH, \n",
    "#                             '//*[@id=\"id__8hzjlqcfwha\"]/div[1]/div/a/div/div[1]/span/span')"
   ]
  },
  {
   "cell_type": "code",
   "execution_count": 38,
   "metadata": {},
   "outputs": [
    {
     "name": "stdout",
     "output_type": "stream",
     "text": [
      "Anabel Hernández\n",
      "@anabelhoficial\n",
      "xrp.gerry.xah\n",
      "@gerryxrp\n",
      "·\n",
      "Mar 31\n",
      "Grok\n",
      "@grok\n",
      "·\n",
      "Mar 31\n",
      "Rossana Villares\n",
      "@RossanaVillares\n",
      "·\n",
      "22h\n",
      "Tere\n",
      "@Teehreh\n",
      "·\n",
      "16h\n",
      "Armando Galindo Reyes\n",
      "@armandgal65\n",
      "·\n",
      "2h\n",
      "Gilberto Astorga F\n",
      "@vzlaastor2025\n",
      "·\n",
      "13h\n",
      "Rena Cornejo\n",
      "@cornejo_rena\n",
      "·\n",
      "23h\n",
      "Juan Carlos Cortés\n",
      "@jccortes\n",
      "·\n",
      "Apr 1\n",
      "Kubala\n",
      "@cubalamx\n",
      "·\n",
      "12h\n",
      "Victor manuel Vazquez guerrero\n",
      "@Victorm06387347\n",
      "·\n",
      "12h\n",
      "Astrophisic\n",
      "@culiacan929\n",
      "·\n",
      "Mar 31\n",
      "Nadia\n",
      "@politicanadia\n",
      "·\n",
      "18h\n",
      "Luz Maria Saltijeral\n",
      "@Luzmasaltijeral\n",
      "·\n",
      "Apr 1\n"
     ]
    }
   ],
   "source": [
    "for x in names:\n",
    "    print(x.text)\n"
   ]
  },
  {
   "cell_type": "code",
   "execution_count": 25,
   "metadata": {},
   "outputs": [],
   "source": [
    "#comments = driver.find_elements(\"css selector\", \"div[id='tweetText']\")\n"
   ]
  },
  {
   "cell_type": "code",
   "execution_count": 26,
   "metadata": {},
   "outputs": [
    {
     "name": "stdout",
     "output_type": "stream",
     "text": [
      "Siempre estaré agradecida con cada uno de mis lectores, por aquellos que decidieron conocer la verdad de los hechos ante las situaciones que afectan al país. Gracias por apreciar mi trabajo en \"La historia secreta: AMLO y el Cártel de Sinaloa\".\n",
      "Hey \n",
      "@grok\n",
      " los libros de \n",
      "@anabelhoficial\n",
      " son ciencia ficción?\n",
      "No, los libros de Anabel Hernández no son ciencia ficción. Son obras de periodismo investigativo basadas en hechos reales, como \"La Historia Secreta: AMLO y el Cártel de Sinaloa\", que explora corrupción y narcotráfico en México con evidencia documental, no elementos\n",
      "Anabel estás correspondida !\n",
      "La periodista  Anavel si pasara a la historia  de México.\n",
      "Excelente libro\n",
      "#PobreBurra3D\n",
      "Señora,\n",
      "¿No le gustaría conocer a Jaime Maussan.\n",
      "Pienso que tendrían mucho de que platicar.\n",
      "                                    \n",
      "Parece que se acabó el contrato con la editorial... ¿Es despedía? ¿De qué verdad habla?\n",
      "\n",
      "Tu ciencia ficción esta muy fumada, chance deberíamos meternos lo que tu te metes para entender lo que escribes, me dijeron!! Según mi informante!!! Alguien que vio!!! Tus únicos argumentos\n",
      "\n",
      "¿Cuánto te pago el prófugo Francisco Cabeza de Vaca para que lanzaras tu montaje de investigación que se cayó en unos días?\n",
      "Felicidades Anabel por tu Coraje y Valentía para defender a Mexico! \n",
      "Siempre estaremos contigo, cuidate mucho\n",
      "Felicidades!!!\n",
      "\n",
      "Estoy contigo ánimo bravo por todo lo que haces excelente trabajo\n"
     ]
    }
   ],
   "source": [
    "for comment in comments:\n",
    "    print(comment.text)\n",
    "\n",
    "\n"
   ]
  },
  {
   "cell_type": "code",
   "execution_count": null,
   "metadata": {},
   "outputs": [],
   "source": [
    "#username = WebDriverWait(driver, 20).until(EC.visibility_of_element_located((By.CSS_SELECTOR, 'input[autocomplete=\"username\"]')))\n",
    "#username.send_keys(\"your_username\")\n",
    "#username.send_keys(Keys.ENTER)\n"
   ]
  },
  {
   "cell_type": "code",
   "execution_count": null,
   "metadata": {},
   "outputs": [],
   "source": [
    "'''\n",
    "import time\n",
    "from selenium import webdriver\n",
    "from selenium.webdriver import ChromeOptions, Keys\n",
    "from selenium.webdriver.common.by import By\n",
    "from selenium.webdriver.support import expected_conditions as EC\n",
    "from selenium.webdriver.support.wait import WebDriverWait\n",
    "\n",
    "\n",
    "options = ChromeOptions()\n",
    "options.add_argument(\"--start-maximized\")\n",
    "options.add_experimental_option(\"excludeSwitches\", [\"enable-automation\"])\n",
    "\n",
    "driver = webdriver.Chrome(options=options)\n",
    "url = \"https://twitter.com/i/flow/login\"\n",
    "driver.get(url)\n",
    "\n",
    "username = WebDriverWait(driver, 20).until(EC.visibility_of_element_located((By.CSS_SELECTOR, 'input[autocomplete=\"username\"]')))\n",
    "username.send_keys(\"your_username\")\n",
    "username.send_keys(Keys.ENTER)\n",
    "\n",
    "password = WebDriverWait(driver, 10).until(EC.visibility_of_element_located((By.CSS_SELECTOR, 'input[name=\"password\"]')))\n",
    "password.send_keys(\"your_password\")\n",
    "password.send_keys(Keys.ENTER)\n",
    "\n",
    "time.sleep(10)\n",
    "'''"
   ]
  },
  {
   "cell_type": "code",
   "execution_count": null,
   "metadata": {},
   "outputs": [],
   "source": [
    "x = 'https://x.com/i/flow/login'"
   ]
  },
  {
   "cell_type": "code",
   "execution_count": null,
   "metadata": {},
   "outputs": [],
   "source": []
  },
  {
   "cell_type": "code",
   "execution_count": null,
   "metadata": {},
   "outputs": [],
   "source": []
  }
 ],
 "metadata": {
  "kernelspec": {
   "display_name": "base",
   "language": "python",
   "name": "python3"
  },
  "language_info": {
   "codemirror_mode": {
    "name": "ipython",
    "version": 3
   },
   "file_extension": ".py",
   "mimetype": "text/x-python",
   "name": "python",
   "nbconvert_exporter": "python",
   "pygments_lexer": "ipython3",
   "version": "3.12.3"
  }
 },
 "nbformat": 4,
 "nbformat_minor": 2
}
