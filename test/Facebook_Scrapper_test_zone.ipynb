{
 "cells": [
  {
   "cell_type": "code",
   "execution_count": 1,
   "metadata": {},
   "outputs": [],
   "source": [
    "import os\n",
    "import json\n",
    "import sys \n",
    "from sys import exit \n",
    "import numpy as np"
   ]
  },
  {
   "cell_type": "code",
   "execution_count": 8,
   "metadata": {},
   "outputs": [],
   "source": [
    "import time\n",
    "import urllib.request\n",
    "import ssl\n",
    "from dotenv import load_dotenv\n",
    "from unicodedata import name\n",
    "from selenium import webdriver\n",
    "from selenium.webdriver.common.keys import Keys\n",
    "from selenium.webdriver.chrome.options import Options\n",
    "from selenium.webdriver.common.by import By\n",
    "from selenium.webdriver.chrome.service import Service\n",
    "from urllib.parse import urlparse, parse_qs"
   ]
  },
  {
   "cell_type": "code",
   "execution_count": 19,
   "metadata": {},
   "outputs": [
    {
     "data": {
      "text/plain": [
       "True"
      ]
     },
     "execution_count": 19,
     "metadata": {},
     "output_type": "execute_result"
    }
   ],
   "source": [
    "load_dotenv()"
   ]
  },
  {
   "cell_type": "code",
   "execution_count": 36,
   "metadata": {},
   "outputs": [],
   "source": [
    "### Load environment variables\n",
    "### Now I'm using the .env file to load the variables\n",
    "FACEBOOK_USER = os.getenv(\"facebook_user\")\n",
    "FACEBOOK_PASSWORD = os.getenv(\"facebook_password\")\n",
    "## Loading the service and options for the chrome driver\n",
    "service = Service('E:/Users/1167486/Local/Drivers_web/chromedriver-win64/chromedriver')\n",
    "options = webdriver.ChromeOptions()\n",
    "options.binary_location = r'E:/Users/1167486/Local/Drivers_web/chrome-win64/chrome.exe'\n",
    "\n",
    "driver = webdriver.Chrome(service=service, options=options)\n"
   ]
  },
  {
   "cell_type": "code",
   "execution_count": 37,
   "metadata": {},
   "outputs": [],
   "source": [
    "driver.maximize_window()\n",
    "driver.get('https://www.facebook.com/login/')\n"
   ]
  },
  {
   "cell_type": "code",
   "execution_count": 38,
   "metadata": {},
   "outputs": [],
   "source": [
    "ssl._create_default_https_context = ssl._create_unverified_context\n",
    "textos = []\n"
   ]
  },
  {
   "cell_type": "code",
   "execution_count": 39,
   "metadata": {},
   "outputs": [],
   "source": [
    "time.sleep(3)\n",
    "username = driver.find_element(\"css selector\", \"input[name='email']\")\n",
    "password = driver.find_element(\"css selector\", \"input[name='pass']\")\n"
   ]
  },
  {
   "cell_type": "code",
   "execution_count": 40,
   "metadata": {},
   "outputs": [],
   "source": [
    "username.clear()\n",
    "password.clear()\n"
   ]
  },
  {
   "cell_type": "code",
   "execution_count": 41,
   "metadata": {},
   "outputs": [],
   "source": [
    "username.send_keys(FACEBOOK_USER)\n",
    "password.send_keys(FACEBOOK_PASSWORD)\n"
   ]
  },
  {
   "cell_type": "code",
   "execution_count": 42,
   "metadata": {},
   "outputs": [],
   "source": [
    "login = driver.find_element(\"css selector\", \"button[type='submit']\").click()\n",
    "time.sleep(6)\n"
   ]
  },
  {
   "cell_type": "code",
   "execution_count": 43,
   "metadata": {},
   "outputs": [],
   "source": [
    "name = 'cinexcepción'\n",
    "driver.get(\"https://www.facebook.com/search/pages/?q=\"+name)\n",
    "time.sleep(2)\n"
   ]
  },
  {
   "cell_type": "code",
   "execution_count": 44,
   "metadata": {},
   "outputs": [],
   "source": [
    "post = 'https://www.facebook.com/Cinexcepcion/posts/pfbid0bhBrBUN5ZMqWDJhk3nTJm9VzNspzcX9bcLSdxJNJBsu3UVZZuq9yjVVvTmjGcDMal'\n",
    "\n",
    "driver.get(post)\n",
    "time.sleep(2)\n",
    "\n",
    "\n"
   ]
  },
  {
   "cell_type": "code",
   "execution_count": 34,
   "metadata": {},
   "outputs": [
    {
     "data": {
      "text/plain": [
       "[<selenium.webdriver.remote.webelement.WebElement (session=\"0ae2fa35bc42ab9c4eaee5adb1efc123\", element=\"f.BE59274331F024596A43C7306F8B2F98.d.1DC55366E611F29EDE6C7C9D745D838A.e.7960\")>,\n",
       " <selenium.webdriver.remote.webelement.WebElement (session=\"0ae2fa35bc42ab9c4eaee5adb1efc123\", element=\"f.BE59274331F024596A43C7306F8B2F98.d.1DC55366E611F29EDE6C7C9D745D838A.e.8075\")>,\n",
       " <selenium.webdriver.remote.webelement.WebElement (session=\"0ae2fa35bc42ab9c4eaee5adb1efc123\", element=\"f.BE59274331F024596A43C7306F8B2F98.d.1DC55366E611F29EDE6C7C9D745D838A.e.8183\")>,\n",
       " <selenium.webdriver.remote.webelement.WebElement (session=\"0ae2fa35bc42ab9c4eaee5adb1efc123\", element=\"f.BE59274331F024596A43C7306F8B2F98.d.1DC55366E611F29EDE6C7C9D745D838A.e.8294\")>,\n",
       " <selenium.webdriver.remote.webelement.WebElement (session=\"0ae2fa35bc42ab9c4eaee5adb1efc123\", element=\"f.BE59274331F024596A43C7306F8B2F98.d.1DC55366E611F29EDE6C7C9D745D838A.e.8394\")>,\n",
       " <selenium.webdriver.remote.webelement.WebElement (session=\"0ae2fa35bc42ab9c4eaee5adb1efc123\", element=\"f.BE59274331F024596A43C7306F8B2F98.d.1DC55366E611F29EDE6C7C9D745D838A.e.8506\")>,\n",
       " <selenium.webdriver.remote.webelement.WebElement (session=\"0ae2fa35bc42ab9c4eaee5adb1efc123\", element=\"f.BE59274331F024596A43C7306F8B2F98.d.1DC55366E611F29EDE6C7C9D745D838A.e.8611\")>,\n",
       " <selenium.webdriver.remote.webelement.WebElement (session=\"0ae2fa35bc42ab9c4eaee5adb1efc123\", element=\"f.BE59274331F024596A43C7306F8B2F98.d.1DC55366E611F29EDE6C7C9D745D838A.e.8726\")>,\n",
       " <selenium.webdriver.remote.webelement.WebElement (session=\"0ae2fa35bc42ab9c4eaee5adb1efc123\", element=\"f.BE59274331F024596A43C7306F8B2F98.d.1DC55366E611F29EDE6C7C9D745D838A.e.8822\")>]"
      ]
     },
     "execution_count": 34,
     "metadata": {},
     "output_type": "execute_result"
    }
   ],
   "source": [
    "#comments = driver.find_elements(\"css selector\", \"div[class='x1lliihq x1ja2u2z xhkezso x1gmr53x x13faqbe x19nzlky x1f6m7m3 x13qkpa x1ur3af0 x1544l6x x18d9i69 xw4jnvo']\")\n",
    "comments = driver.find_elements(\"css selector\", \"div[class='xdj266r x11i5rnm xat24cr x1mh8g0r x1vvkbs']\")\n"
   ]
  },
  {
   "cell_type": "code",
   "execution_count": 46,
   "metadata": {},
   "outputs": [
    {
     "ename": "InvalidSessionIdException",
     "evalue": "Message: invalid session id\nStacktrace:\n\tGetHandleVerifier [0x00007FF68B813C25+77845]\n\tGetHandleVerifier [0x00007FF68B813C80+77936]\n\t(No symbol) [0x00007FF68B5C8F6C]\n\t(No symbol) [0x00007FF68B60F6FF]\n\t(No symbol) [0x00007FF68B647152]\n\t(No symbol) [0x00007FF68B641B82]\n\t(No symbol) [0x00007FF68B640C49]\n\t(No symbol) [0x00007FF68B595A75]\n\tGetHandleVerifier [0x00007FF68BAC0C5D+2883661]\n\tGetHandleVerifier [0x00007FF68BABB55E+2861390]\n\tGetHandleVerifier [0x00007FF68BAD8A43+2981427]\n\tGetHandleVerifier [0x00007FF68B82ECFA+188650]\n\tGetHandleVerifier [0x00007FF68B836F6F+222047]\n\t(No symbol) [0x00007FF68B594AE8]\n\tGetHandleVerifier [0x00007FF68BBC5DA8+3953048]\n\tBaseThreadInitThunk [0x00007FFD6DD97614+20]\n\tRtlUserThreadStart [0x00007FFD6FA026F1+33]\n",
     "output_type": "error",
     "traceback": [
      "\u001b[1;31m---------------------------------------------------------------------------\u001b[0m",
      "\u001b[1;31mInvalidSessionIdException\u001b[0m                 Traceback (most recent call last)",
      "Cell \u001b[1;32mIn[46], line 4\u001b[0m\n\u001b[0;32m      1\u001b[0m comments_text_list \u001b[38;5;241m=\u001b[39m []\n\u001b[0;32m      3\u001b[0m \u001b[38;5;28;01mfor\u001b[39;00m comment \u001b[38;5;129;01min\u001b[39;00m comments:\n\u001b[1;32m----> 4\u001b[0m     \u001b[38;5;28mprint\u001b[39m(comment\u001b[38;5;241m.\u001b[39mtext)\n",
      "File \u001b[1;32me:\\Users\\1167486\\AppData\\Local\\anaconda3\\Lib\\site-packages\\selenium\\webdriver\\remote\\webelement.py:77\u001b[0m, in \u001b[0;36mWebElement.text\u001b[1;34m(self)\u001b[0m\n\u001b[0;32m     74\u001b[0m \u001b[38;5;129m@property\u001b[39m\n\u001b[0;32m     75\u001b[0m \u001b[38;5;28;01mdef\u001b[39;00m \u001b[38;5;21mtext\u001b[39m(\u001b[38;5;28mself\u001b[39m) \u001b[38;5;241m-\u001b[39m\u001b[38;5;241m>\u001b[39m \u001b[38;5;28mstr\u001b[39m:\n\u001b[0;32m     76\u001b[0m \u001b[38;5;250m    \u001b[39m\u001b[38;5;124;03m\"\"\"The text of the element.\"\"\"\u001b[39;00m\n\u001b[1;32m---> 77\u001b[0m     \u001b[38;5;28;01mreturn\u001b[39;00m \u001b[38;5;28mself\u001b[39m\u001b[38;5;241m.\u001b[39m_execute(Command\u001b[38;5;241m.\u001b[39mGET_ELEMENT_TEXT)[\u001b[38;5;124m'\u001b[39m\u001b[38;5;124mvalue\u001b[39m\u001b[38;5;124m'\u001b[39m]\n",
      "File \u001b[1;32me:\\Users\\1167486\\AppData\\Local\\anaconda3\\Lib\\site-packages\\selenium\\webdriver\\remote\\webelement.py:710\u001b[0m, in \u001b[0;36mWebElement._execute\u001b[1;34m(self, command, params)\u001b[0m\n\u001b[0;32m    708\u001b[0m     params \u001b[38;5;241m=\u001b[39m {}\n\u001b[0;32m    709\u001b[0m params[\u001b[38;5;124m'\u001b[39m\u001b[38;5;124mid\u001b[39m\u001b[38;5;124m'\u001b[39m] \u001b[38;5;241m=\u001b[39m \u001b[38;5;28mself\u001b[39m\u001b[38;5;241m.\u001b[39m_id\n\u001b[1;32m--> 710\u001b[0m \u001b[38;5;28;01mreturn\u001b[39;00m \u001b[38;5;28mself\u001b[39m\u001b[38;5;241m.\u001b[39m_parent\u001b[38;5;241m.\u001b[39mexecute(command, params)\n",
      "File \u001b[1;32me:\\Users\\1167486\\AppData\\Local\\anaconda3\\Lib\\site-packages\\selenium\\webdriver\\remote\\webdriver.py:424\u001b[0m, in \u001b[0;36mWebDriver.execute\u001b[1;34m(self, driver_command, params)\u001b[0m\n\u001b[0;32m    422\u001b[0m response \u001b[38;5;241m=\u001b[39m \u001b[38;5;28mself\u001b[39m\u001b[38;5;241m.\u001b[39mcommand_executor\u001b[38;5;241m.\u001b[39mexecute(driver_command, params)\n\u001b[0;32m    423\u001b[0m \u001b[38;5;28;01mif\u001b[39;00m response:\n\u001b[1;32m--> 424\u001b[0m     \u001b[38;5;28mself\u001b[39m\u001b[38;5;241m.\u001b[39merror_handler\u001b[38;5;241m.\u001b[39mcheck_response(response)\n\u001b[0;32m    425\u001b[0m     response[\u001b[38;5;124m'\u001b[39m\u001b[38;5;124mvalue\u001b[39m\u001b[38;5;124m'\u001b[39m] \u001b[38;5;241m=\u001b[39m \u001b[38;5;28mself\u001b[39m\u001b[38;5;241m.\u001b[39m_unwrap_value(\n\u001b[0;32m    426\u001b[0m         response\u001b[38;5;241m.\u001b[39mget(\u001b[38;5;124m'\u001b[39m\u001b[38;5;124mvalue\u001b[39m\u001b[38;5;124m'\u001b[39m, \u001b[38;5;28;01mNone\u001b[39;00m))\n\u001b[0;32m    427\u001b[0m     \u001b[38;5;28;01mreturn\u001b[39;00m response\n",
      "File \u001b[1;32me:\\Users\\1167486\\AppData\\Local\\anaconda3\\Lib\\site-packages\\selenium\\webdriver\\remote\\errorhandler.py:247\u001b[0m, in \u001b[0;36mErrorHandler.check_response\u001b[1;34m(self, response)\u001b[0m\n\u001b[0;32m    245\u001b[0m         alert_text \u001b[38;5;241m=\u001b[39m value[\u001b[38;5;124m'\u001b[39m\u001b[38;5;124malert\u001b[39m\u001b[38;5;124m'\u001b[39m]\u001b[38;5;241m.\u001b[39mget(\u001b[38;5;124m'\u001b[39m\u001b[38;5;124mtext\u001b[39m\u001b[38;5;124m'\u001b[39m)\n\u001b[0;32m    246\u001b[0m     \u001b[38;5;28;01mraise\u001b[39;00m exception_class(message, screen, stacktrace, alert_text)  \u001b[38;5;66;03m# type: ignore[call-arg]  # mypy is not smart enough here\u001b[39;00m\n\u001b[1;32m--> 247\u001b[0m \u001b[38;5;28;01mraise\u001b[39;00m exception_class(message, screen, stacktrace)\n",
      "\u001b[1;31mInvalidSessionIdException\u001b[0m: Message: invalid session id\nStacktrace:\n\tGetHandleVerifier [0x00007FF68B813C25+77845]\n\tGetHandleVerifier [0x00007FF68B813C80+77936]\n\t(No symbol) [0x00007FF68B5C8F6C]\n\t(No symbol) [0x00007FF68B60F6FF]\n\t(No symbol) [0x00007FF68B647152]\n\t(No symbol) [0x00007FF68B641B82]\n\t(No symbol) [0x00007FF68B640C49]\n\t(No symbol) [0x00007FF68B595A75]\n\tGetHandleVerifier [0x00007FF68BAC0C5D+2883661]\n\tGetHandleVerifier [0x00007FF68BABB55E+2861390]\n\tGetHandleVerifier [0x00007FF68BAD8A43+2981427]\n\tGetHandleVerifier [0x00007FF68B82ECFA+188650]\n\tGetHandleVerifier [0x00007FF68B836F6F+222047]\n\t(No symbol) [0x00007FF68B594AE8]\n\tGetHandleVerifier [0x00007FF68BBC5DA8+3953048]\n\tBaseThreadInitThunk [0x00007FFD6DD97614+20]\n\tRtlUserThreadStart [0x00007FFD6FA026F1+33]\n"
     ]
    }
   ],
   "source": [
    "comments_text_list = []\n",
    "\n",
    "for comment in comments:\n",
    "    print(comment.text)\n",
    "    #comments_text_list.append(comment.text)\n",
    " \n"
   ]
  }
 ],
 "metadata": {
  "kernelspec": {
   "display_name": "Isis_WebScrapper",
   "language": "python",
   "name": "python3"
  },
  "language_info": {
   "codemirror_mode": {
    "name": "ipython",
    "version": 3
   },
   "file_extension": ".py",
   "mimetype": "text/x-python",
   "name": "python",
   "nbconvert_exporter": "python",
   "pygments_lexer": "ipython3",
   "version": "3.12.9"
  }
 },
 "nbformat": 4,
 "nbformat_minor": 2
}
