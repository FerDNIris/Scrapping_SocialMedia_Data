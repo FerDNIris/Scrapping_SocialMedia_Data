{
 "cells": [
  {
   "cell_type": "code",
   "execution_count": 16,
   "metadata": {},
   "outputs": [],
   "source": [
    "import time\n",
    "import selenium as sel\n",
    "from selenium import webdriver\n",
    "from selenium.webdriver.common.by import By\n",
    "from selenium.webdriver.common.keys import Keys\n",
    "from selenium.webdriver.chrome.service import Service\n",
    "from selenium.webdriver.chrome.options import Options\n",
    "from selenium.webdriver.firefox.options import Options as firefoxOptions\n",
    "\n",
    "from selenium.webdriver.support.ui import WebDriverWait\n",
    "from selenium.webdriver.common.keys import Keys\n",
    "from selenium.webdriver.support import expected_conditions as EC\n",
    "\n",
    "from bs4 import BeautifulSoup\n",
    "import pandas as pd"
   ]
  },
  {
   "cell_type": "code",
   "execution_count": 17,
   "metadata": {},
   "outputs": [],
   "source": [
    "# Configuración de Selenium\n",
    "def setup_driver():\n",
    "    chrome_options = Options()\n",
    "    chrome_options.binary_location = r'E:/Users/1167486/Local/Drivers_web/chrome-win64/chrome.exe'\n",
    "    chrome_options.add_argument(\"--headless\")  \n",
    "    chrome_options.add_argument(\"--disable-notifications\")\n",
    "    chrome_options.add_argument(\"--lang=es\")\n",
    "    chrome_options.add_argument(\"user-agent=Mozilla/5.0 (Windows NT 10.0; Win64; x64) AppleWebKit/537.36 (KHTML, like Gecko) Chrome/91.0.4472.124 Safari/537.36\")\n",
    "    \n",
    "    #firefox_options = firefoxOptions()\n",
    "    #firefox_options.add_argument(\"--headless\")  \n",
    "    #firefox_options.add_argument(\"--disable-notifications\")\n",
    "    #firefox_options.add_argument(\"--lang=es\")\n",
    "    #firefox_options.add_argument(\"user-agent=Mozilla/5.0 (Windows NT 10.0; Win64; x64) AppleWebKit/537.36 (KHTML, like Gecko) Chrome/91.0.4472.124 Safari/537.36\")\n",
    "\n",
    "    service = Service('E:/Users/1167486/Local/Drivers_web/chromedriver-win64/chromedriver.exe')  \n",
    "    #service = Service('E:/Users/1167486/Local/Drivers_web/geckodriver.exe')\n",
    "    #driver = webdriver.Chrome(service=service, options=firefox_options)\n",
    "    driver = webdriver.Chrome(service=service, options=chrome_options)\n",
    "    return driver"
   ]
  },
  {
   "cell_type": "code",
   "execution_count": 24,
   "metadata": {},
   "outputs": [],
   "source": [
    "urlLogin = 'https://x.com/i/flow/login'"
   ]
  },
  {
   "cell_type": "code",
   "execution_count": 25,
   "metadata": {},
   "outputs": [],
   "source": [
    "driver = setup_driver()"
   ]
  },
  {
   "cell_type": "code",
   "execution_count": 26,
   "metadata": {},
   "outputs": [],
   "source": [
    "driver.get(urlLogin)"
   ]
  },
  {
   "cell_type": "code",
   "execution_count": 27,
   "metadata": {},
   "outputs": [
    {
     "ename": "TimeoutException",
     "evalue": "Message: \nStacktrace:\n\tGetHandleVerifier [0x00007FF6E0A93C25+77845]\n\tGetHandleVerifier [0x00007FF6E0A93C80+77936]\n\t(No symbol) [0x00007FF6E084913A]\n\t(No symbol) [0x00007FF6E089F316]\n\t(No symbol) [0x00007FF6E089F5CC]\n\t(No symbol) [0x00007FF6E08F24A7]\n\t(No symbol) [0x00007FF6E08C72CF]\n\t(No symbol) [0x00007FF6E08EF2EF]\n\t(No symbol) [0x00007FF6E08C7063]\n\t(No symbol) [0x00007FF6E08905D8]\n\t(No symbol) [0x00007FF6E0891343]\n\tGetHandleVerifier [0x00007FF6E0D40C5D+2883661]\n\tGetHandleVerifier [0x00007FF6E0D3B55E+2861390]\n\tGetHandleVerifier [0x00007FF6E0D58A43+2981427]\n\tGetHandleVerifier [0x00007FF6E0AAECFA+188650]\n\tGetHandleVerifier [0x00007FF6E0AB6F6F+222047]\n\tGetHandleVerifier [0x00007FF6E0A9C324+112404]\n\tGetHandleVerifier [0x00007FF6E0A9C4D2+112834]\n\tGetHandleVerifier [0x00007FF6E0A82129+5401]\n\tBaseThreadInitThunk [0x00007FFC9DC37614+20]\n\tRtlUserThreadStart [0x00007FFC9EE826F1+33]\n",
     "output_type": "error",
     "traceback": [
      "\u001b[1;31m---------------------------------------------------------------------------\u001b[0m",
      "\u001b[1;31mTimeoutException\u001b[0m                          Traceback (most recent call last)",
      "Cell \u001b[1;32mIn[27], line 1\u001b[0m\n\u001b[1;32m----> 1\u001b[0m login_button \u001b[38;5;241m=\u001b[39m WebDriverWait(driver, \u001b[38;5;241m10\u001b[39m)\u001b[38;5;241m.\u001b[39muntil(\n\u001b[0;32m      2\u001b[0m             EC\u001b[38;5;241m.\u001b[39melement_to_be_clickable((By\u001b[38;5;241m.\u001b[39mXPATH, \u001b[38;5;124m'\u001b[39m\u001b[38;5;124m//a[@data-testid=\u001b[39m\u001b[38;5;124m\"\u001b[39m\u001b[38;5;124mloginButton\u001b[39m\u001b[38;5;124m\"\u001b[39m\u001b[38;5;124m]\u001b[39m\u001b[38;5;124m'\u001b[39m)))\n",
      "File \u001b[1;32me:\\Users\\1167486\\AppData\\Local\\anaconda3\\Lib\\site-packages\\selenium\\webdriver\\support\\wait.py:146\u001b[0m, in \u001b[0;36mWebDriverWait.until\u001b[1;34m(self, method, message)\u001b[0m\n\u001b[0;32m    144\u001b[0m         \u001b[38;5;28;01mbreak\u001b[39;00m\n\u001b[0;32m    145\u001b[0m     time\u001b[38;5;241m.\u001b[39msleep(\u001b[38;5;28mself\u001b[39m\u001b[38;5;241m.\u001b[39m_poll)\n\u001b[1;32m--> 146\u001b[0m \u001b[38;5;28;01mraise\u001b[39;00m TimeoutException(message, screen, stacktrace)\n",
      "\u001b[1;31mTimeoutException\u001b[0m: Message: \nStacktrace:\n\tGetHandleVerifier [0x00007FF6E0A93C25+77845]\n\tGetHandleVerifier [0x00007FF6E0A93C80+77936]\n\t(No symbol) [0x00007FF6E084913A]\n\t(No symbol) [0x00007FF6E089F316]\n\t(No symbol) [0x00007FF6E089F5CC]\n\t(No symbol) [0x00007FF6E08F24A7]\n\t(No symbol) [0x00007FF6E08C72CF]\n\t(No symbol) [0x00007FF6E08EF2EF]\n\t(No symbol) [0x00007FF6E08C7063]\n\t(No symbol) [0x00007FF6E08905D8]\n\t(No symbol) [0x00007FF6E0891343]\n\tGetHandleVerifier [0x00007FF6E0D40C5D+2883661]\n\tGetHandleVerifier [0x00007FF6E0D3B55E+2861390]\n\tGetHandleVerifier [0x00007FF6E0D58A43+2981427]\n\tGetHandleVerifier [0x00007FF6E0AAECFA+188650]\n\tGetHandleVerifier [0x00007FF6E0AB6F6F+222047]\n\tGetHandleVerifier [0x00007FF6E0A9C324+112404]\n\tGetHandleVerifier [0x00007FF6E0A9C4D2+112834]\n\tGetHandleVerifier [0x00007FF6E0A82129+5401]\n\tBaseThreadInitThunk [0x00007FFC9DC37614+20]\n\tRtlUserThreadStart [0x00007FFC9EE826F1+33]\n"
     ]
    }
   ],
   "source": [
    "login_button = WebDriverWait(driver, 10).until(\n",
    "            EC.element_to_be_clickable((By.XPATH, '//a[@data-testid=\"loginButton\"]')))\n"
   ]
  },
  {
   "cell_type": "code",
   "execution_count": null,
   "metadata": {},
   "outputs": [],
   "source": [
    "login_button.click()\n",
    "        time.sleep(2)\n",
    "        driver.find_element(By.TAG_NAME, 'body').send_keys(Keys.ESCAPE)"
   ]
  },
  {
   "cell_type": "code",
   "execution_count": 13,
   "metadata": {},
   "outputs": [],
   "source": [
    "soup = BeautifulSoup(driver.page_source, 'html.parser')"
   ]
  },
  {
   "cell_type": "code",
   "execution_count": null,
   "metadata": {},
   "outputs": [],
   "source": []
  },
  {
   "cell_type": "code",
   "execution_count": 28,
   "metadata": {},
   "outputs": [],
   "source": [
    "from selenium import webdriver\n",
    "from selenium.webdriver.common.by import By\n",
    "from selenium.webdriver.common.keys import Keys\n",
    "from selenium.webdriver.support.ui import WebDriverWait\n",
    "from selenium.webdriver.support import expected_conditions as EC\n",
    "from selenium.common.exceptions import TimeoutException\n",
    "import time\n",
    "\n",
    "def sign_in_with_twitter_account_selenium(email_or_phone_or_username, verify_account, password):\n",
    "    \"\"\"\n",
    "    Simula el inicio de sesión en Twitter (X) usando Selenium.\n",
    "\n",
    "    Args:\n",
    "        email_or_phone_or_username (str): Correo electrónico, teléfono o nombre de usuario.\n",
    "        verify_account (str): Nombre de usuario para verificación (si es necesario).\n",
    "        password (str): Contraseña de la cuenta.\n",
    "    \"\"\"\n",
    "    try:\n",
    "        driver = webdriver.Chrome()  # Asegúrate de tener ChromeDriver instalado y en PATH\n",
    "        driver.get(\"https://twitter.com/i/flow/login\")\n",
    "\n",
    "        # Esperar a que el botón de inicio de sesión sea clickeable y luego hacer clic\n",
    "        login_button = WebDriverWait(driver, 10).until(\n",
    "            EC.element_to_be_clickable((By.XPATH, '//a[@data-testid=\"loginButton\"]'))\n",
    "        )\n",
    "        login_button.click()\n",
    "        time.sleep(2)\n",
    "        driver.find_element(By.TAG_NAME, 'body').send_keys(Keys.ESCAPE)\n",
    "\n",
    "        # Ingresar el correo electrónico, teléfono o nombre de usuario\n",
    "        username_input = WebDriverWait(driver, 10).until(\n",
    "            EC.presence_of_element_located((By.XPATH, '//input[@autocomplete=\"username\"]'))\n",
    "        )\n",
    "        username_input.send_keys(email_or_phone_or_username)\n",
    "\n",
    "        # Clic en el botón \"Siguiente\"\n",
    "        next_button = WebDriverWait(driver, 10).until(\n",
    "            EC.element_to_be_clickable((By.XPATH, '//div[@role=\"button\" and contains(., \"Siguiente\")]'))\n",
    "        )\n",
    "        next_button.click()\n",
    "\n",
    "        # Verificar si se requiere verificación de nombre de usuario\n",
    "        try:\n",
    "            verify_input = WebDriverWait(driver, 5).until(\n",
    "                EC.presence_of_element_located((By.XPATH, '//input[@autocomplete=\"off\"]'))\n",
    "            )\n",
    "            verify_input.send_keys(verify_account)\n",
    "            next_button = WebDriverWait(driver, 5).until(\n",
    "                EC.element_to_be_clickable((By.XPATH, '//div[@role=\"button\" and contains(., \"Siguiente\")]'))\n",
    "            )\n",
    "            next_button.click()\n",
    "\n",
    "        except TimeoutException:\n",
    "            # Si no se encuentra el campo de verificación, continuar sin él\n",
    "            print(\"No se requirió verificación adicional.\")\n",
    "\n",
    "        # Ingresar la contraseña\n",
    "        password_input = WebDriverWait(driver, 10).until(\n",
    "            EC.presence_of_element_located((By.XPATH, '//input[@autocomplete=\"current-password\"]'))\n",
    "        )\n",
    "        password_input.send_keys(password)\n",
    "\n",
    "        # Clic en el botón \"Iniciar sesión\"\n",
    "        login_submit_button = WebDriverWait(driver, 10).until(\n",
    "            EC.element_to_be_clickable((By.XPATH, '//div[@data-testid=\"LoginForm_Login_Button\"]'))\n",
    "        )\n",
    "        login_submit_button.click()\n",
    "\n",
    "        # Esperar a que la página cargue después del inicio de sesión (ajusta el tiempo según sea necesario)\n",
    "        time.sleep(5)\n",
    "\n",
    "    except Exception as e:\n",
    "        print(f\"Ocurrió un error durante el inicio de sesión: {e}\")\n",
    "    finally:\n",
    "        # Cerrar el navegador al finalizar, incluso si hay un error\n",
    "        #driver.quit() #Remove comment to close the browser.\n",
    "        pass"
   ]
  },
  {
   "cell_type": "code",
   "execution_count": null,
   "metadata": {},
   "outputs": [],
   "source": [
    "user = browser.find_element_by_name('session[username_or_email]')\n",
    "    user.send_keys(userUsername)\n",
    "\n",
    "    password = browser.find_element_by_name('session[password]')\n",
    "    password.send_keys(userPassword)\n",
    "    password.send_keys(Keys.ENTER)\n",
    "\n",
    "    browser.implicitly_wait(5)\n",
    "    tweet = browser.find_element_by_css_selector(\"br[data-text='true']\")\n",
    "    tweet.send_keys('I am a bot, bep bop')\n",
    "\n",
    "    button = browser.find_element_by_css_selector(\"div[data-testid='tweetButtonInline']\")\n",
    "    button.click()\n",
    "\n",
    "    browser.close() "
   ]
  },
  {
   "cell_type": "code",
   "execution_count": null,
   "metadata": {},
   "outputs": [],
   "source": [
    "urlTwitter='https://x.com/RicardoBSalinas/status/1900807572610818356'\n",
    "urlTwitter = 'https://x.com/f_solorzano/status/1896405011846098960'\n",
    "#driver.get(urlTwitter)"
   ]
  },
  {
   "cell_type": "code",
   "execution_count": 40,
   "metadata": {},
   "outputs": [],
   "source": [
    "driver.get(urlTwitter)"
   ]
  },
  {
   "cell_type": "code",
   "execution_count": 41,
   "metadata": {},
   "outputs": [],
   "source": [
    "soup = BeautifulSoup(driver.page_source, 'html.parser')"
   ]
  },
  {
   "cell_type": "code",
   "execution_count": 42,
   "metadata": {},
   "outputs": [
    {
     "data": {
      "text/plain": [
       "[<div class=\"css-146c3p1 r-bcqeeo r-1ttztb7 r-qvutc0 r-37j5jr r-1inkyih r-16dba41 r-bnwqim r-135wba7\" data-testid=\"tweetText\" dir=\"auto\" id=\"id__qxyoihzzb9\" lang=\"es\" style=\"color: rgb(15, 20, 25);\"><span class=\"css-1jxf684 r-bcqeeo r-1ttztb7 r-qvutc0 r-poiln3\">El mejor premio de la noche: Mikey Madison.</span></div>]"
      ]
     },
     "execution_count": 42,
     "metadata": {},
     "output_type": "execute_result"
    }
   ],
   "source": [
    "soup.find_all('div', {'data-testid' : 'tweetText'})"
   ]
  },
  {
   "cell_type": "code",
   "execution_count": 31,
   "metadata": {},
   "outputs": [],
   "source": [
    "def scrape_tweet_comments(tweet_url, max_comments=100):\n",
    "    driver = setup_driver()\n",
    "    comments = []\n",
    "    \n",
    "    try:\n",
    "        driver.get(tweet_url)\n",
    "        time.sleep(5) \n",
    "        \n",
    "        last_height = driver.execute_script(\"return document.body.scrollHeight\")\n",
    "        comments_collected = 0\n",
    "        \n",
    "        while comments_collected < max_comments:\n",
    "            # Obtener el HTML de la página\n",
    "            soup = BeautifulSoup(driver.page_source, 'html.parser')\n",
    "            \n",
    "            #comment_elements = soup.find_all('div', {'data-testid': 'tweetText'})\n",
    "            comment_elements = soup.find_all('div', {'data-testid': 'cellInnerDiv'})\n",
    "            \n",
    "            for comment in comment_elements:\n",
    "                if comment.text not in comments and len(comment.text) > 5:\n",
    "                    comments.append(comment.text)\n",
    "                    comments_collected += 1\n",
    "                    if comments_collected >= max_comments:\n",
    "                        break\n",
    "            \n",
    "            driver.execute_script(\"window.scrollTo(0, document.body.scrollHeight);\")\n",
    "            time.sleep(2) \n",
    "            \n",
    "            new_height = driver.execute_script(\"return document.body.scrollHeight\")\n",
    "            if new_height == last_height:\n",
    "                break\n",
    "            last_height = new_height\n",
    "            \n",
    "    except Exception as e:\n",
    "        print(f\"Error durante el scraping: {e}\")\n",
    "    finally:\n",
    "        driver.quit()\n",
    "    \n",
    "    return comments\n"
   ]
  },
  {
   "cell_type": "code",
   "execution_count": 36,
   "metadata": {},
   "outputs": [],
   "source": [
    "def scrape_tweet_comments(tweet_url, max_comments=100):\n",
    "    driver = setup_driver()\n",
    "    comments = []\n",
    "\n",
    "    try:\n",
    "        driver.get(tweet_url)\n",
    "        time.sleep(5)\n",
    "\n",
    "        last_height = driver.execute_script(\"return document.body.scrollHeight\")\n",
    "        comments_collected = 0\n",
    "\n",
    "        while comments_collected < max_comments:\n",
    "            soup = BeautifulSoup(driver.page_source, 'html.parser')\n",
    "\n",
    "            # Intenta identificar los comentarios con selectores más específicos\n",
    "            comment_elements = soup.find_all('div', {'data-testid': 'tweetText'})\n",
    "\n",
    "            for comment in comment_elements:\n",
    "                comment_text = comment.text.strip()\n",
    "                if comment_text and comment_text not in comments:\n",
    "                    comments.append(comment_text)\n",
    "                    comments_collected += 1\n",
    "                    if comments_collected >= max_comments:\n",
    "                        break\n",
    "\n",
    "            driver.execute_script(\"window.scrollTo(0, document.body.scrollHeight);\")\n",
    "            time.sleep(2)\n",
    "\n",
    "            new_height = driver.execute_script(\"return document.body.scrollHeight\")\n",
    "            if new_height == last_height:\n",
    "                break\n",
    "            last_height = new_height\n",
    "\n",
    "    except Exception as e:\n",
    "        print(f\"Error durante el scraping: {e}\")\n",
    "    finally:\n",
    "        driver.quit()\n",
    "\n",
    "    return comments"
   ]
  },
  {
   "cell_type": "code",
   "execution_count": 37,
   "metadata": {},
   "outputs": [],
   "source": [
    "x  = scrape_tweet_comments(tweet_url=urlTwitter,  max_comments=50)"
   ]
  },
  {
   "cell_type": "code",
   "execution_count": 38,
   "metadata": {},
   "outputs": [
    {
     "data": {
      "text/plain": [
       "['El mejor premio de la noche: Mikey Madison.']"
      ]
     },
     "execution_count": 38,
     "metadata": {},
     "output_type": "execute_result"
    }
   ],
   "source": [
    "x"
   ]
  },
  {
   "cell_type": "code",
   "execution_count": 1,
   "metadata": {},
   "outputs": [],
   "source": [
    "import requests"
   ]
  },
  {
   "cell_type": "code",
   "execution_count": 2,
   "metadata": {},
   "outputs": [],
   "source": [
    "params = {\n",
    "    \"screen_name\": \"f_solorzano\",\n",
    "    \"count\": 1\n",
    "}"
   ]
  },
  {
   "cell_type": "code",
   "execution_count": 3,
   "metadata": {},
   "outputs": [],
   "source": [
    "url_api = \"https://api.twitter.com/1.1/statuses/user_timeline.json\""
   ]
  },
  {
   "cell_type": "code",
   "execution_count": 4,
   "metadata": {},
   "outputs": [],
   "source": [
    "response = requests.get(url_api, params=params)"
   ]
  },
  {
   "cell_type": "code",
   "execution_count": 6,
   "metadata": {},
   "outputs": [
    {
     "data": {
      "text/plain": [
       "{'errors': [{'code': 215, 'message': 'Bad Authentication data.'}]}"
      ]
     },
     "execution_count": 6,
     "metadata": {},
     "output_type": "execute_result"
    }
   ],
   "source": [
    "response.json()"
   ]
  },
  {
   "cell_type": "code",
   "execution_count": 1,
   "metadata": {},
   "outputs": [],
   "source": [
    "from time import sleep\n",
    "from clicknium import clicknium, locator\n",
    "from clicknium.common.enums import *\n",
    "\n"
   ]
  },
  {
   "cell_type": "code",
   "execution_count": null,
   "metadata": {},
   "outputs": [],
   "source": [
    "def sign_in_with_twitter_account(email_or_phone_or_username,verify_account,password):\n",
    "    clicknium.find_element(locator.websites.twitter.login_btn).click()\n",
    "    sleep(2)\n",
    "    clicknium.send_hotkey(\"{ESC}\")\n",
    "    clicknium.find_element(locator.websites.twitter.twitter_account_input).set_text(email_or_phone_or_username)\n",
    "    clicknium.find_element(locator.websites.twitter.login_next_btn).click()\n",
    "    twitter_verify_input=clicknium.wait_appear(locator.websites.twitter.twitter_verify_input,wait_timeout=5)\n",
    "    if twitter_verify_input:\n",
    "        twitter_verify_input.set_text(verify_account)\n",
    "        clicknium.find_element(locator.websites.twitter.login_next_btn).click()\n",
    "    clicknium.find_element(locator.websites.twitter.twitter_password_input).set_text(password)\n",
    "    clicknium.find_element(locator.websites.twitter.login_form_login_btn).click()"
   ]
  },
  {
   "cell_type": "code",
   "execution_count": null,
   "metadata": {},
   "outputs": [],
   "source": [
    "sign_in_with_twitter_account()"
   ]
  }
 ],
 "metadata": {
  "kernelspec": {
   "display_name": "base",
   "language": "python",
   "name": "python3"
  },
  "language_info": {
   "codemirror_mode": {
    "name": "ipython",
    "version": 3
   },
   "file_extension": ".py",
   "mimetype": "text/x-python",
   "name": "python",
   "nbconvert_exporter": "python",
   "pygments_lexer": "ipython3",
   "version": "3.12.3"
  }
 },
 "nbformat": 4,
 "nbformat_minor": 2
}
