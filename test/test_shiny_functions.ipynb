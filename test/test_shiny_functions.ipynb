{
 "cells": [
  {
   "cell_type": "code",
   "execution_count": null,
   "id": "2bc9f486",
   "metadata": {},
   "outputs": [
    {
     "name": "stderr",
     "output_type": "stream",
     "text": [
      "e:\\Users\\1167486\\AppData\\Local\\anaconda3\\envs\\Isis_WebScrapper\\Lib\\site-packages\\tqdm\\auto.py:21: TqdmWarning: IProgress not found. Please update jupyter and ipywidgets. See https://ipywidgets.readthedocs.io/en/stable/user_install.html\n",
      "  from .autonotebook import tqdm as notebook_tqdm\n"
     ]
    }
   ],
   "source": [
    "from shiny import App, render, ui\n",
    "import shinyswatch\n",
    "import requests\n",
    "from bs4 import BeautifulSoup\n",
    "from googleapiclient.discovery import build\n",
    "import googlemaps\n",
    "import tweepy\n",
    "from transformers import pipeline\n",
    "import spacy\n",
    "import os\n",
    "import google.generativeai as genai\n",
    "import re \n",
    "from spacytextblob.spacytextblob import SpacyTextBlob\n",
    "import matplotlib.pyplot as plt\n",
    "import seaborn as sns\n",
    "import pandas as pd\n",
    "import time\n",
    "from dotenv import load_dotenv"
   ]
  },
  {
   "cell_type": "code",
   "execution_count": 2,
   "id": "9a9c8f3f",
   "metadata": {},
   "outputs": [
    {
     "data": {
      "text/plain": [
       "True"
      ]
     },
     "execution_count": 2,
     "metadata": {},
     "output_type": "execute_result"
    }
   ],
   "source": [
    "load_dotenv()"
   ]
  },
  {
   "cell_type": "code",
   "execution_count": null,
   "id": "e4fe6be8",
   "metadata": {},
   "outputs": [],
   "source": [
    "url_test = ''"
   ]
  },
  {
   "cell_type": "code",
   "execution_count": null,
   "id": "3d91759e",
   "metadata": {},
   "outputs": [],
   "source": [
    "def wikipedia_content(url):\n",
    "    try:\n",
    "        response = requests.get(url)\n",
    "        response.raise_for_status()  # Lanza una excepción para códigos de error HTTP\n",
    "        soup = BeautifulSoup(response.text, 'html.parser')\n",
    "        paragraphs = soup.find_all('p')\n",
    "        text = \"\\n\".join([p.get_text() for p in paragraphs])\n",
    "        return text[:500] + \"...\" if len(text) > 500 else text # Mostrar un fragmento por ahora\n",
    "    except requests.exceptions.RequestException as e:\n",
    "        return f\"Error al acceder a Wikipedia: {e}\"\n"
   ]
  },
  {
   "cell_type": "code",
   "execution_count": null,
   "id": "e8382dfa",
   "metadata": {},
   "outputs": [],
   "source": [
    "def sentiment_output(input_text):\n",
    "    nlp_sentiment = None\n",
    "    try: \n",
    "        nlp_sentiment = spacy.load(\"es_core_news_md\")\n",
    "        nlp_sentiment.add_pipe('spacytextblob')\n",
    "    except Exception as e:  \n",
    "        print(f\"Error al cargar el modelo de Spacy: {e}\")\n",
    "        return ui.output_text(\"sentiment_error\", f\"Error al cargar el modelo de Spacy: {e}\")\n",
    "    all_text_to_analyze ={\n",
    "        #\"Comentarios de YouTube\": input.youtube_comments(),\n",
    "        #\"Comentarios de Google Maps\": input.maps_comments(),\n",
    "        #\"Posts de Twitter\": input.twitter_posts(),\n",
    "        \"Texto de Wikipedia\": input_text            \n",
    "    }\n",
    "    print(f\"Texto a analizar en sentimientos: {all_text_to_analyze}\")\n",
    "    sentiment_data = []\n",
    "    for source, text in all_text_to_analyze.items():\n",
    "        if text and not text.startswith(\"Error\"):\n",
    "            try:\n",
    "                doc = nlp_sentiment(text)\n",
    "                polarity = doc._.blob.polarity  \n",
    "                sentiment='Neutral'\n",
    "                if polarity > 0.1:\n",
    "                    sentiment = 'Positivo'\n",
    "                elif polarity < -0.1:\n",
    "                    sentiment = 'Negativo'\n",
    "                sentiment_data.append({\"Source\": source, \"Sentiment\": sentiment})\n",
    "            except Exception as e:\n",
    "                print(f\"Error analyzing sentiment for {source}: {e}\")\n",
    "        else:\n",
    "            print(f\"No text available for sentiment analysis for {source}\")\n",
    "    if not sentiment_data:\n",
    "        return ui.output_text(\"No hay texto para analizar.\")\n",
    "        \n",
    "    df_sentiment= pd.DataFrame(sentiment_data)\n",
    "    sentiment_counts= df_sentiment.groupby('Source')['Sentiment'].value_counts(normalize=True).unstack().fillna(0)\n",
    "    fig, ax = plt.subplots(figsize=(10, 6))\n",
    "    sentiment_counts.plot(kind='bar', stacked=True, ax=ax)\n",
    "    plt.title('Distribución de Sentimientos')\n",
    "    plt.xlabel(\"Source\")\n",
    "    plt.ylabel(\"Percentage\")\n",
    "    plt.xticks(rotation=45, ha=\"right\")\n",
    "\n",
    "    for p in ax.patches:\n",
    "        width = p.get_width()\n",
    "        height = p.get_height()\n",
    "        x, y = p.get_xy()\n",
    "        ax.annotate(f'{height:.1%}', (x + width/2, y + height/2), ha='center', va='center')\n",
    "\n",
    "    plt.tight_layout()\n",
    "    return fig\n"
   ]
  },
  {
   "cell_type": "code",
   "execution_count": null,
   "id": "135b4085",
   "metadata": {},
   "outputs": [],
   "source": []
  },
  {
   "cell_type": "code",
   "execution_count": null,
   "id": "8b49a24e",
   "metadata": {},
   "outputs": [],
   "source": []
  },
  {
   "cell_type": "code",
   "execution_count": null,
   "id": "45b2530c",
   "metadata": {},
   "outputs": [],
   "source": []
  },
  {
   "cell_type": "code",
   "execution_count": null,
   "id": "e31e9bc3",
   "metadata": {},
   "outputs": [],
   "source": []
  },
  {
   "cell_type": "code",
   "execution_count": null,
   "id": "a0a170f4",
   "metadata": {},
   "outputs": [],
   "source": []
  }
 ],
 "metadata": {
  "kernelspec": {
   "display_name": "Isis_WebScrapper",
   "language": "python",
   "name": "python3"
  },
  "language_info": {
   "codemirror_mode": {
    "name": "ipython",
    "version": 3
   },
   "file_extension": ".py",
   "mimetype": "text/x-python",
   "name": "python",
   "nbconvert_exporter": "python",
   "pygments_lexer": "ipython3",
   "version": "3.12.9"
  }
 },
 "nbformat": 4,
 "nbformat_minor": 5
}
